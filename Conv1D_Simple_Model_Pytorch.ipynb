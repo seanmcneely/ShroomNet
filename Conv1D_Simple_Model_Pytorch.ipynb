{
  "nbformat": 4,
  "nbformat_minor": 0,
  "metadata": {
    "colab": {
      "name": "Conv1D_Simple_Model_Pytorch.ipynb",
      "provenance": [],
      "collapsed_sections": []
    },
    "kernelspec": {
      "name": "python3",
      "display_name": "Python 3"
    },
    "accelerator": "GPU"
  },
  "cells": [
    {
      "cell_type": "code",
      "metadata": {
        "id": "vFEdcFcHCAG4",
        "colab_type": "code",
        "colab": {}
      },
      "source": [
        "import numpy as np\n",
        "from numpy import loadtxt\n",
        "from google.colab import drive\n",
        "import matplotlib.pyplot as plt\n",
        "import torch\n",
        "import torch.nn as nn\n",
        "import torch.nn.functional as F\n",
        "import torch.optim as optim\n",
        "from torch.utils.data import TensorDataset, DataLoader"
      ],
      "execution_count": 2,
      "outputs": []
    },
    {
      "cell_type": "code",
      "metadata": {
        "id": "Ti9NunI6CIM_",
        "colab_type": "code",
        "colab": {
          "base_uri": "https://localhost:8080/",
          "height": 139
        },
        "outputId": "daf5da82-7d85-4cd1-e3d9-6fbdec99ed4b"
      },
      "source": [
        "drive.mount('/content/gdrive')\n",
        "%cd /content/gdrive/My\\ Drive"
      ],
      "execution_count": 3,
      "outputs": [
        {
          "output_type": "stream",
          "text": [
            "Go to this URL in a browser: https://accounts.google.com/o/oauth2/auth?client_id=947318989803-6bn6qk8qdgf4n4g3pfee6491hc0brc4i.apps.googleusercontent.com&redirect_uri=urn%3aietf%3awg%3aoauth%3a2.0%3aoob&response_type=code&scope=email%20https%3a%2f%2fwww.googleapis.com%2fauth%2fdocs.test%20https%3a%2f%2fwww.googleapis.com%2fauth%2fdrive%20https%3a%2f%2fwww.googleapis.com%2fauth%2fdrive.photos.readonly%20https%3a%2f%2fwww.googleapis.com%2fauth%2fpeopleapi.readonly\n",
            "\n",
            "Enter your authorization code:\n",
            "··········\n",
            "Mounted at /content/gdrive\n",
            "/content/gdrive/My Drive\n"
          ],
          "name": "stdout"
        }
      ]
    },
    {
      "cell_type": "code",
      "metadata": {
        "id": "gXX-B4wUIXt2",
        "colab_type": "code",
        "colab": {}
      },
      "source": [
        "def loadData(isCONVfirstLayer, valPercentage):\n",
        "  trainX = np.loadtxt(\"PsiloClassifier/dataSplit/trainX2.csv\", delimiter= \",\")\n",
        "  trainY = np.loadtxt(\"PsiloClassifier/dataSplit/trainY2.csv\", delimiter= \",\")\n",
        "  testX = np.loadtxt(\"PsiloClassifier/dataSplit/testX2.csv\", delimiter= \",\")\n",
        "  testY = np.loadtxt(\"PsiloClassifier/dataSplit/testY2.csv\", delimiter= \",\")\n",
        "  valX = np.loadtxt(\"PsiloClassifier/dataSplit/valX2.csv\", delimiter= \",\")\n",
        "  valY = np.loadtxt(\"PsiloClassifier/dataSplit/valY2.csv\", delimiter= \",\")\n",
        "  \n",
        "  if(isCONVfirstLayer):\n",
        "    shape = trainX.shape\n",
        "    samples = shape[0]\n",
        "    timesteps = shape[1]\n",
        "    trainX = trainX.reshape(samples, 1, timesteps)\n",
        "\n",
        "    shape= testX.shape\n",
        "    samples = shape[0]\n",
        "    timesteps = shape[1]\n",
        "    testX = testX.reshape(samples, 1, timesteps)\n",
        "\n",
        "    shape= valX.shape\n",
        "    samples = shape[0]\n",
        "    timesteps = shape[1]\n",
        "    valX = valX.reshape(samples, 1, timesteps)\n",
        "\n",
        "  trainX = trainX.astype('float32')\n",
        "  testX = testX.astype('float32')\n",
        "  valX = valX.astype('float32')\n",
        "  trainY = trainY.astype('float32').reshape((-1,1))\n",
        "  testY = testY.astype('float32').reshape((-1,1))\n",
        "  valY = valY.astype('float32').reshape((-1,1))\n",
        "\n",
        "  trainX = torch.tensor(trainX)\n",
        "  trainY = torch.tensor(trainY)\n",
        "  testX = torch.tensor(testX)\n",
        "  testY = torch.tensor(testY)\n",
        "  valX = torch.tensor(valX)\n",
        "  valY = torch.tensor(valY)\n",
        "\n",
        "  return trainX, trainY, valX, valY, testX, testY"
      ],
      "execution_count": 5,
      "outputs": []
    },
    {
      "cell_type": "code",
      "metadata": {
        "id": "uV6C4UV-TsH7",
        "colab_type": "code",
        "colab": {}
      },
      "source": [
        "def createDataset(trainX, trainY, valX, valY):\n",
        "  train_ds = TensorDataset(trainX, trainY)\n",
        "  val_ds = TensorDataset(valX, valY)\n",
        "  return train_ds, val_ds"
      ],
      "execution_count": 6,
      "outputs": []
    },
    {
      "cell_type": "code",
      "metadata": {
        "id": "yXwnDjsWUKuf",
        "colab_type": "code",
        "colab": {}
      },
      "source": [
        "def createDataLoaders(train_ds, val_ds, bs):\n",
        "  train_dl = DataLoader(train_ds, bs, shuffle=False)\n",
        "  val_dl = DataLoader(val_ds, bs, shuffle=False)\n",
        "  return train_dl, val_dl"
      ],
      "execution_count": 7,
      "outputs": []
    },
    {
      "cell_type": "code",
      "metadata": {
        "id": "-wkLPdTH1EF2",
        "colab_type": "code",
        "colab": {}
      },
      "source": [
        "sigmoid = nn.Sigmoid()\n",
        "criterion = nn.BCELoss()\n",
        "\n",
        "class ConvClassifier(nn.Module):\n",
        "  def __init__(self, sample_length, num_filters, kernel_size, output_dim):\n",
        "    super().__init__()\n",
        "    self.sample_length = sample_length\n",
        "    self.num_filters = num_filters\n",
        "\n",
        "    padding = 0\n",
        "    dilation = 1\n",
        "    stride = 1\n",
        "\n",
        "    length_out = ((sample_length + 2*padding - dilation*(kernel_size - 1) - 1) / stride ) + 1\n",
        "    self.length_out = length_out\n",
        "\n",
        "    fully_connected_input = int(length_out * num_filters)\n",
        "    self.fc_input = fully_connected_input\n",
        "\n",
        "    self.conv = nn.Conv1d(1, num_filters, kernel_size)\n",
        "    self.fc = nn.Linear(fully_connected_input, output_dim)\n",
        "\n",
        "  def forward(self, x):\n",
        "    x = self.conv(x)\n",
        "    x = x.view(-1, self.fc_input)\n",
        "    x = self.fc(x)\n",
        "    x = sigmoid(x)\n",
        "    return x\n",
        "\n",
        "def accuracyAndLoss(data_loader, model):\n",
        "  total, correct, loss, batches = 0, 0, 0, 0\n",
        "  model.eval()\n",
        "  for x, y in data_loader:\n",
        "    out = model(x)\n",
        "    preds = out.round()\n",
        "    total += y.size(0)\n",
        "    batches += 1\n",
        "    correct += (preds == y).sum().item()\n",
        "    loss += criterion(out, y)\n",
        "  return correct/total, loss/batches"
      ],
      "execution_count": 66,
      "outputs": []
    },
    {
      "cell_type": "code",
      "metadata": {
        "id": "CscN6OQl0HNi",
        "colab_type": "code",
        "colab": {}
      },
      "source": [
        "trainX, trainY, valX, valY, testX, testY = loadData(True, 20)\n",
        "train_ds, val_ds = createDataset(trainX, trainY, valX, valY)\n",
        "train_dl, val_dl = createDataLoaders(train_ds, val_ds, bs=512)"
      ],
      "execution_count": 9,
      "outputs": []
    },
    {
      "cell_type": "code",
      "metadata": {
        "id": "oFH3RFNOuV4x",
        "colab_type": "code",
        "colab": {}
      },
      "source": [
        "def train_model(lr, epochs, sample_length, num_filters, kernel_size, plot=False):\n",
        "  model = ConvClassifier(sample_length, num_filters, kernel_size, 1)\n",
        "  criterion = nn.BCELoss()\n",
        "  opt = torch.optim.RMSprop(model.parameters(), lr=lr)\n",
        "  train_accuracy = []\n",
        "  val_accuracy = []\n",
        "  train_loss = []\n",
        "  val_loss = []\n",
        "\n",
        "  print('Starting model training... lr:', lr, ' epochs:', epochs,  ' num_filters:', num_filters, ' kernel_size:', kernel_size)\n",
        "\n",
        "  for epoch in range(epochs):\n",
        "      for i, (x_batch, y_batch) in enumerate(train_dl):\n",
        "          model.train()\n",
        "          x_batch = x_batch\n",
        "          y_batch = y_batch\n",
        "          opt.zero_grad()\n",
        "          out = model(x_batch)\n",
        "          loss = criterion(out, y_batch)\n",
        "          loss.backward()\n",
        "          opt.step()\n",
        "      \n",
        "      with torch.no_grad():\n",
        "        train_accuracy_, train_loss_ = accuracyAndLoss(train_dl, model)\n",
        "        train_accuracy.append(train_accuracy_)\n",
        "        train_loss.append(train_loss_)\n",
        "        val_accuracy_, val_loss_ = accuracyAndLoss(val_dl, model)\n",
        "        val_accuracy.append(val_accuracy_)\n",
        "        val_loss.append(val_loss_)\n",
        "\n",
        "  if plot == True: \n",
        "    plt.subplot(2,1,1)\n",
        "    plt.plot(train_accuracy, 'b')\n",
        "    plt.title(\"accuracy\")\n",
        "    plt.plot(val_accuracy, 'r')\n",
        "\n",
        "    plt.subplot(2,1,2)\n",
        "    plt.plot(train_loss, 'b')\n",
        "    plt.title(\"loss\")\n",
        "    plt.plot(val_loss, 'r')\n",
        "\n",
        "    plt.tight_layout()\n",
        "    plt.show()\n",
        "\n",
        "  print('Training complete! train_accuracy:', round(train_accuracy[-1], 3), ' val_accuracy:', round(val_accuracy[-1], 3), ' train_loss:', round(train_loss[-1].item(), 3), ' val_loss:', round(val_loss[-1].item(), 3) )\n",
        "\n",
        "  return train_accuracy, val_accuracy, train_loss, val_loss, model;"
      ],
      "execution_count": 10,
      "outputs": []
    },
    {
      "cell_type": "code",
      "metadata": {
        "id": "6B8s6orwbHSk",
        "colab_type": "code",
        "colab": {}
      },
      "source": [
        "#stores all information relevant to a model trained using random parameter search\n",
        "class trainedModel:\n",
        "  def __init__(self, lr, epochs, hidden_dim, num_lstm_layers, train_accuracy, val_accuracy, train_loss, val_loss):\n",
        "    self.lr = lr\n",
        "    self.epochs = epochs\n",
        "    self.hidden_dim = hidden_dim\n",
        "    self.num_lstm_layers = num_lstm_layers\n",
        "    self.train_accuracy = train_accuracy\n",
        "    self.val_accuracy = val_accuracy\n",
        "    self.train_loss = train_loss\n",
        "    self.val_loss = val_loss\n",
        "    self.final_val_accuracy = val_accuracy[-1]\n",
        "\n",
        "  def __gt__(self, other):\n",
        "    return self.final_val_accuracy > other.final_val_accuracy"
      ],
      "execution_count": 11,
      "outputs": []
    },
    {
      "cell_type": "code",
      "metadata": {
        "id": "w1Q2LGd2ZAkq",
        "colab_type": "code",
        "colab": {
          "base_uri": "https://localhost:8080/",
          "height": 331
        },
        "outputId": "d7191b55-9cca-4466-ade3-e94fa4718582"
      },
      "source": [
        "a, b, c, d, model = train_model(0.004, 5, 250, 3, 100, True)"
      ],
      "execution_count": 77,
      "outputs": [
        {
          "output_type": "stream",
          "text": [
            "Starting model training... lr: 0.004  epochs: 5  num_filters: 3  kernel_size: 100\n"
          ],
          "name": "stdout"
        },
        {
          "output_type": "display_data",
          "data": {
            "image/png": "[encoded data removed]",
            "text/plain": [
              "<Figure size 432x288 with 2 Axes>"
            ]
          },
          "metadata": {
            "tags": [],
            "needs_background": "light"
          }
        },
        {
          "output_type": "stream",
          "text": [
            "Training complete! train_accuracy: 0.568  val_accuracy: 0.516  train_loss: 0.674  val_loss: 0.697\n"
          ],
          "name": "stdout"
        }
      ]
    }
  ]
}