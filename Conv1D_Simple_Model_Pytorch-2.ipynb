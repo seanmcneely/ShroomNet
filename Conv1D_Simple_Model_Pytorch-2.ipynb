{
  "nbformat": 4,
  "nbformat_minor": 0,
  "metadata": {
    "colab": {
      "name": "Conv1D_Simple_Model_Pytorch.ipynb",
      "provenance": [],
      "collapsed_sections": []
    },
    "kernelspec": {
      "name": "python3",
      "display_name": "Python 3"
    },
    "accelerator": "GPU"
  },
  "cells": [
    {
      "cell_type": "code",
      "metadata": {
        "id": "vFEdcFcHCAG4",
        "colab_type": "code",
        "colab": {}
      },
      "source": [
        "import numpy as np\n",
        "from numpy import loadtxt\n",
        "from google.colab import drive\n",
        "import matplotlib.pyplot as plt\n",
        "import torch\n",
        "import torch.nn as nn\n",
        "import torch.nn.functional as F\n",
        "import torch.optim as optim\n",
        "from torch.utils.data import TensorDataset, DataLoader"
      ],
      "execution_count": 2,
      "outputs": []
    },
    {
      "cell_type": "code",
      "metadata": {
        "id": "Ti9NunI6CIM_",
        "colab_type": "code",
        "colab": {
          "base_uri": "https://localhost:8080/",
          "height": 139
        },
        "outputId": "daf5da82-7d85-4cd1-e3d9-6fbdec99ed4b"
      },
      "source": [
        "drive.mount('/content/gdrive')\n",
        "%cd /content/gdrive/My\\ Drive"
      ],
      "execution_count": 3,
      "outputs": [
        {
          "output_type": "stream",
          "text": [
            "Go to this URL in a browser: https://accounts.google.com/o/oauth2/auth?client_id=947318989803-6bn6qk8qdgf4n4g3pfee6491hc0brc4i.apps.googleusercontent.com&redirect_uri=urn%3aietf%3awg%3aoauth%3a2.0%3aoob&response_type=code&scope=email%20https%3a%2f%2fwww.googleapis.com%2fauth%2fdocs.test%20https%3a%2f%2fwww.googleapis.com%2fauth%2fdrive%20https%3a%2f%2fwww.googleapis.com%2fauth%2fdrive.photos.readonly%20https%3a%2f%2fwww.googleapis.com%2fauth%2fpeopleapi.readonly\n",
            "\n",
            "Enter your authorization code:\n",
            "··········\n",
            "Mounted at /content/gdrive\n",
            "/content/gdrive/My Drive\n"
          ],
          "name": "stdout"
        }
      ]
    },
    {
      "cell_type": "code",
      "metadata": {
        "id": "gXX-B4wUIXt2",
        "colab_type": "code",
        "colab": {}
      },
      "source": [
        "def loadData(isCONVfirstLayer, valPercentage):\n",
        "  trainX = np.loadtxt(\"PsiloClassifier/dataSplit/trainX2.csv\", delimiter= \",\")\n",
        "  trainY = np.loadtxt(\"PsiloClassifier/dataSplit/trainY2.csv\", delimiter= \",\")\n",
        "  testX = np.loadtxt(\"PsiloClassifier/dataSplit/testX2.csv\", delimiter= \",\")\n",
        "  testY = np.loadtxt(\"PsiloClassifier/dataSplit/testY2.csv\", delimiter= \",\")\n",
        "  valX = np.loadtxt(\"PsiloClassifier/dataSplit/valX2.csv\", delimiter= \",\")\n",
        "  valY = np.loadtxt(\"PsiloClassifier/dataSplit/valY2.csv\", delimiter= \",\")\n",
        "  \n",
        "  if(isCONVfirstLayer):\n",
        "    shape = trainX.shape\n",
        "    samples = shape[0]\n",
        "    timesteps = shape[1]\n",
        "    trainX = trainX.reshape(samples, 1, timesteps)\n",
        "\n",
        "    shape= testX.shape\n",
        "    samples = shape[0]\n",
        "    timesteps = shape[1]\n",
        "    testX = testX.reshape(samples, 1, timesteps)\n",
        "\n",
        "    shape= valX.shape\n",
        "    samples = shape[0]\n",
        "    timesteps = shape[1]\n",
        "    valX = valX.reshape(samples, 1, timesteps)\n",
        "\n",
        "  trainX = trainX.astype('float32')\n",
        "  testX = testX.astype('float32')\n",
        "  valX = valX.astype('float32')\n",
        "  trainY = trainY.astype('float32').reshape((-1,1))\n",
        "  testY = testY.astype('float32').reshape((-1,1))\n",
        "  valY = valY.astype('float32').reshape((-1,1))\n",
        "\n",
        "  trainX = torch.tensor(trainX)\n",
        "  trainY = torch.tensor(trainY)\n",
        "  testX = torch.tensor(testX)\n",
        "  testY = torch.tensor(testY)\n",
        "  valX = torch.tensor(valX)\n",
        "  valY = torch.tensor(valY)\n",
        "\n",
        "  return trainX, trainY, valX, valY, testX, testY"
      ],
      "execution_count": 5,
      "outputs": []
    },
    {
      "cell_type": "code",
      "metadata": {
        "id": "uV6C4UV-TsH7",
        "colab_type": "code",
        "colab": {}
      },
      "source": [
        "def createDataset(trainX, trainY, valX, valY):\n",
        "  train_ds = TensorDataset(trainX, trainY)\n",
        "  val_ds = TensorDataset(valX, valY)\n",
        "  return train_ds, val_ds"
      ],
      "execution_count": 6,
      "outputs": []
    },
    {
      "cell_type": "code",
      "metadata": {
        "id": "yXwnDjsWUKuf",
        "colab_type": "code",
        "colab": {}
      },
      "source": [
        "def createDataLoaders(train_ds, val_ds, bs):\n",
        "  train_dl = DataLoader(train_ds, bs, shuffle=False)\n",
        "  val_dl = DataLoader(val_ds, bs, shuffle=False)\n",
        "  return train_dl, val_dl"
      ],
      "execution_count": 7,
      "outputs": []
    },
    {
      "cell_type": "code",
      "metadata": {
        "id": "-wkLPdTH1EF2",
        "colab_type": "code",
        "colab": {}
      },
      "source": [
        "sigmoid = nn.Sigmoid()\n",
        "criterion = nn.BCELoss()\n",
        "\n",
        "def c_out_length(in_length, kernel_size, padding=0, dilation=1, stride=1):\n",
        "  length_out = ((in_length + 2*padding - dilation*(kernel_size - 1) - 1) / stride ) + 1\n",
        "  return length_out\n",
        "\n",
        "class ConvClassifier(nn.Module):\n",
        "  def __init__(self, sample_length, num_filters, kernel_size, pool_kernel_size, output_dim):\n",
        "    super().__init__()\n",
        "    self.sample_length = sample_length\n",
        "    self.num_filters = num_filters\n",
        "    self.pool_kernel_size = pool_kernel_size\n",
        "\n",
        "    self.conv = nn.Conv1d(1, num_filters, kernel_size)\n",
        "    self.pool = nn.MaxPool1d(pool_kernel_size)\n",
        "    \n",
        "    conv_out_length = c_out_length(sample_length, kernel_size)\n",
        "    pool_out_length = int(conv_out_length/pool_kernel_size)\n",
        "    fully_connected_input = int(pool_out_length * num_filters)\n",
        "\n",
        "    self.fc_input = fully_connected_input\n",
        "    self.fc = nn.Linear(fully_connected_input, output_dim)\n",
        "\n",
        "  def forward(self, x):\n",
        "    x = self.conv(x)\n",
        "    x = self.pool(x)\n",
        "    x = x.view(-1, self.fc_input)\n",
        "    x = self.fc(x)\n",
        "    x = sigmoid(x)\n",
        "    return x\n",
        "\n",
        "def accuracyAndLoss(data_loader, model):\n",
        "  total, correct, loss, batches = 0, 0, 0, 0\n",
        "  model.eval()\n",
        "  for x, y in data_loader:\n",
        "    out = model(x)\n",
        "    preds = out.round()\n",
        "    total += y.size(0)\n",
        "    batches += 1\n",
        "    correct += (preds == y).sum().item()\n",
        "    loss += criterion(out, y)\n",
        "  return correct/total, loss/batches"
      ],
      "execution_count": 128,
      "outputs": []
    },
    {
      "cell_type": "code",
      "metadata": {
        "id": "CscN6OQl0HNi",
        "colab_type": "code",
        "colab": {}
      },
      "source": [
        "trainX, trainY, valX, valY, testX, testY = loadData(True, 20)\n",
        "train_ds, val_ds = createDataset(trainX, trainY, valX, valY)\n",
        "train_dl, val_dl = createDataLoaders(train_ds, val_ds, bs=512)"
      ],
      "execution_count": 9,
      "outputs": []
    },
    {
      "cell_type": "code",
      "metadata": {
        "id": "oFH3RFNOuV4x",
        "colab_type": "code",
        "colab": {}
      },
      "source": [
        "def train_model(lr, epochs, sample_length, num_filters, kernel_size, pool_kernel_size, plot=False):\n",
        "  model = ConvClassifier(sample_length, num_filters, kernel_size, pool_kernel_size, 1)\n",
        "  criterion = nn.BCELoss()\n",
        "  opt = torch.optim.RMSprop(model.parameters(), lr=lr)\n",
        "  train_accuracy = []\n",
        "  val_accuracy = []\n",
        "  train_loss = []\n",
        "  val_loss = []\n",
        "\n",
        "  print('Starting model training... lr:', lr, ' epochs:', epochs,  ' num_filters:', num_filters, ' kernel_size:', kernel_size, ' pool_kernel_size:', pool_kernel_size)\n",
        "\n",
        "  for epoch in range(epochs):\n",
        "      for i, (x_batch, y_batch) in enumerate(train_dl):\n",
        "          model.train()\n",
        "          x_batch = x_batch\n",
        "          y_batch = y_batch\n",
        "          opt.zero_grad()\n",
        "          out = model(x_batch)\n",
        "          loss = criterion(out, y_batch)\n",
        "          loss.backward()\n",
        "          opt.step()\n",
        "      \n",
        "      with torch.no_grad():\n",
        "        train_accuracy_, train_loss_ = accuracyAndLoss(train_dl, model)\n",
        "        train_accuracy.append(train_accuracy_)\n",
        "        train_loss.append(train_loss_)\n",
        "        val_accuracy_, val_loss_ = accuracyAndLoss(val_dl, model)\n",
        "        val_accuracy.append(val_accuracy_)\n",
        "        val_loss.append(val_loss_)\n",
        "\n",
        "  if plot == True: \n",
        "    plt.subplot(2,1,1)\n",
        "    plt.plot(train_accuracy, 'b')\n",
        "    plt.title(\"accuracy\")\n",
        "    plt.plot(val_accuracy, 'r')\n",
        "\n",
        "    plt.subplot(2,1,2)\n",
        "    plt.plot(train_loss, 'b')\n",
        "    plt.title(\"loss\")\n",
        "    plt.plot(val_loss, 'r')\n",
        "\n",
        "    plt.tight_layout()\n",
        "    plt.show()\n",
        "\n",
        "  print('Training complete! train_accuracy:', round(train_accuracy[-1], 3), ' val_accuracy:', round(val_accuracy[-1], 3), ' train_loss:', round(train_loss[-1].item(), 3), ' val_loss:', round(val_loss[-1].item(), 3) )\n",
        "\n",
        "  return train_accuracy, val_accuracy, train_loss, val_loss, model;"
      ],
      "execution_count": 125,
      "outputs": []
    },
    {
      "cell_type": "code",
      "metadata": {
        "id": "6B8s6orwbHSk",
        "colab_type": "code",
        "colab": {}
      },
      "source": [
        "#stores all information relevant to a model trained using random parameter search\n",
        "class trainedModel:\n",
        "  def __init__(self, lr, epochs, num_filters, kernel_size, pool_kernel_size, train_accuracy, val_accuracy, train_loss, val_loss):\n",
        "    self.lr = lr\n",
        "    self.epochs = epochs\n",
        "    self.num_filters = num_filters\n",
        "    self.kernel_size = kernel_size\n",
        "    self.pool_kernel_size = pool_kernel_size\n",
        "    self.train_accuracy = train_accuracy\n",
        "    self.val_accuracy = val_accuracy\n",
        "    self.train_loss = train_loss\n",
        "    self.val_loss = val_loss\n",
        "    self.final_val_accuracy = val_accuracy[-1]\n",
        "\n",
        "  def __gt__(self, other):\n",
        "    return self.final_val_accuracy > other.final_val_accuracy\n",
        "\n",
        "#searches for optimal parameters within intervals of lr, epoch, etc. using uniform distribution. keeps and returns top 10 model objects (not their parameters, just their hyperparameters)\n",
        "def paramSearch(reps, lr_min, lr_max, epoch_min, epoch_max, nf_min, nf_max, ks_min, ks_max, pks_min, pks_max):\n",
        "  num_models_to_keep = 10\n",
        "  best_trained_models = []\n",
        "\n",
        "  for rep in range(reps):\n",
        "    lr = np.random.uniform(lr_min, lr_max)\n",
        "    epochs = int(np.random.uniform(epoch_min, epoch_max))\n",
        "    num_filters = int(np.random.uniform(nf_min, nf_max))\n",
        "    kernel_size = int(np.random.uniform(ks_min, ks_max))\n",
        "    pool_kernel_size = int(np.random.uniform(pks_min, pks_max))\n",
        "\n",
        "    train_accuracy, val_accuracy, train_loss, val_loss, model = train_model(lr, epochs, 250, num_filters, kernel_size, pool_kernel_size, plot=False)\n",
        "    trained_model = trainedModel(lr, epochs, num_filters, kernel_size, pool_kernel_size, train_accuracy, val_accuracy, train_loss, val_loss)\n",
        "\n",
        "    if len(best_trained_models) < num_models_to_keep: \n",
        "      best_trained_models.append(trained_model)\n",
        "      best_trained_models.sort(key=lambda x: x.final_val_accuracy, reverse=True)\n",
        "    else:\n",
        "      if trained_model > best_trained_models[num_models_to_keep - 1]:\n",
        "        best_trained_models[num_models_to_keep - 1] = trained_model\n",
        "        best_trained_models.sort(key=lambda x: x.final_val_accuracy, reverse=True)\n",
        "\n",
        "  for i, x in enumerate(best_trained_models):\n",
        "    print(i,': ' , x.final_val_accuracy, ' lr: ', x.lr, ' epochs:', x.epochs, ' num_filters:', x.num_filters, ' kernel_size:', x.kernel_size, ' pool_kernel_size:', x.pool_kernel_size)\n",
        "  return best_trained_models"
      ],
      "execution_count": 140,
      "outputs": []
    },
    {
      "cell_type": "code",
      "metadata": {
        "id": "zBVnOfEgkAvu",
        "colab_type": "code",
        "colab": {
          "base_uri": "https://localhost:8080/",
          "height": 1000
        },
        "outputId": "ee72060a-0f56-4526-bc66-7548c6f59067"
      },
      "source": [
        "x = []\n",
        "x = paramSearch(40, 0.001, 0.02, 1, 6, 1, 10, 5, 100, 5, 100)"
      ],
      "execution_count": 143,
      "outputs": [
        {
          "output_type": "stream",
          "text": [
            "Starting model training... lr: 0.017860190015564006  epochs: 3  num_filters: 7  kernel_size: 39  pool_kernel_size: 34\n",
            "Training complete! train_accuracy: 0.674  val_accuracy: 0.658  train_loss: 0.59  val_loss: 0.648\n",
            "Starting model training... lr: 0.0018175153660627778  epochs: 2  num_filters: 9  kernel_size: 99  pool_kernel_size: 89\n",
            "Training complete! train_accuracy: 0.668  val_accuracy: 0.644  train_loss: 0.599  val_loss: 0.671\n",
            "Starting model training... lr: 0.008224223587072546  epochs: 5  num_filters: 2  kernel_size: 77  pool_kernel_size: 95\n",
            "Training complete! train_accuracy: 0.649  val_accuracy: 0.638  train_loss: 0.618  val_loss: 0.667\n",
            "Starting model training... lr: 0.015430089687711274  epochs: 5  num_filters: 2  kernel_size: 82  pool_kernel_size: 69\n",
            "Training complete! train_accuracy: 0.664  val_accuracy: 0.643  train_loss: 0.603  val_loss: 0.659\n",
            "Starting model training... lr: 0.009189315409368789  epochs: 4  num_filters: 9  kernel_size: 89  pool_kernel_size: 39\n",
            "Training complete! train_accuracy: 0.681  val_accuracy: 0.634  train_loss: 0.588  val_loss: 0.647\n",
            "Starting model training... lr: 0.013713591056642615  epochs: 1  num_filters: 3  kernel_size: 82  pool_kernel_size: 60\n",
            "Training complete! train_accuracy: 0.662  val_accuracy: 0.647  train_loss: 0.605  val_loss: 0.636\n",
            "Starting model training... lr: 0.01063382782120029  epochs: 4  num_filters: 7  kernel_size: 33  pool_kernel_size: 23\n",
            "Training complete! train_accuracy: 0.675  val_accuracy: 0.656  train_loss: 0.59  val_loss: 0.646\n",
            "Starting model training... lr: 0.0024972920696599834  epochs: 4  num_filters: 5  kernel_size: 48  pool_kernel_size: 5\n",
            "Training complete! train_accuracy: 0.683  val_accuracy: 0.657  train_loss: 0.577  val_loss: 0.658\n",
            "Starting model training... lr: 0.007074937621300964  epochs: 3  num_filters: 6  kernel_size: 39  pool_kernel_size: 29\n",
            "Training complete! train_accuracy: 0.673  val_accuracy: 0.646  train_loss: 0.59  val_loss: 0.653\n",
            "Starting model training... lr: 0.0021537015336468646  epochs: 5  num_filters: 5  kernel_size: 6  pool_kernel_size: 83\n",
            "Training complete! train_accuracy: 0.643  val_accuracy: 0.656  train_loss: 0.622  val_loss: 0.657\n",
            "Starting model training... lr: 0.0024909607697533535  epochs: 4  num_filters: 9  kernel_size: 43  pool_kernel_size: 79\n",
            "Training complete! train_accuracy: 0.673  val_accuracy: 0.65  train_loss: 0.591  val_loss: 0.684\n",
            "Starting model training... lr: 0.0023655828148842523  epochs: 5  num_filters: 2  kernel_size: 86  pool_kernel_size: 14\n",
            "Training complete! train_accuracy: 0.669  val_accuracy: 0.639  train_loss: 0.593  val_loss: 0.692\n",
            "Starting model training... lr: 0.013166648935463706  epochs: 4  num_filters: 6  kernel_size: 66  pool_kernel_size: 16\n",
            "Training complete! train_accuracy: 0.673  val_accuracy: 0.659  train_loss: 0.593  val_loss: 0.631\n",
            "Starting model training... lr: 0.010850930040418889  epochs: 3  num_filters: 3  kernel_size: 12  pool_kernel_size: 22\n",
            "Training complete! train_accuracy: 0.663  val_accuracy: 0.66  train_loss: 0.6  val_loss: 0.653\n",
            "Starting model training... lr: 0.00922938858186918  epochs: 4  num_filters: 3  kernel_size: 84  pool_kernel_size: 70\n",
            "Training complete! train_accuracy: 0.669  val_accuracy: 0.644  train_loss: 0.594  val_loss: 0.671\n",
            "Starting model training... lr: 0.004604750158706846  epochs: 5  num_filters: 7  kernel_size: 91  pool_kernel_size: 5\n",
            "Training complete! train_accuracy: 0.682  val_accuracy: 0.657  train_loss: 0.576  val_loss: 0.646\n",
            "Starting model training... lr: 0.006181151057248816  epochs: 3  num_filters: 2  kernel_size: 66  pool_kernel_size: 36\n",
            "Training complete! train_accuracy: 0.671  val_accuracy: 0.642  train_loss: 0.593  val_loss: 0.679\n",
            "Starting model training... lr: 0.016573021688128242  epochs: 1  num_filters: 7  kernel_size: 86  pool_kernel_size: 89\n",
            "Training complete! train_accuracy: 0.629  val_accuracy: 0.6  train_loss: 0.642  val_loss: 0.631\n",
            "Starting model training... lr: 0.004535016955838373  epochs: 3  num_filters: 3  kernel_size: 36  pool_kernel_size: 20\n",
            "Training complete! train_accuracy: 0.672  val_accuracy: 0.656  train_loss: 0.59  val_loss: 0.672\n",
            "Starting model training... lr: 0.0045078505519100896  epochs: 3  num_filters: 9  kernel_size: 97  pool_kernel_size: 34\n",
            "Training complete! train_accuracy: 0.685  val_accuracy: 0.644  train_loss: 0.579  val_loss: 0.671\n",
            "Starting model training... lr: 0.005699374602815057  epochs: 1  num_filters: 3  kernel_size: 68  pool_kernel_size: 20\n",
            "Training complete! train_accuracy: 0.675  val_accuracy: 0.646  train_loss: 0.592  val_loss: 0.646\n",
            "Starting model training... lr: 0.005418191865879004  epochs: 5  num_filters: 7  kernel_size: 85  pool_kernel_size: 29\n",
            "Training complete! train_accuracy: 0.681  val_accuracy: 0.641  train_loss: 0.583  val_loss: 0.661\n",
            "Starting model training... lr: 0.01037539618283833  epochs: 4  num_filters: 2  kernel_size: 6  pool_kernel_size: 22\n",
            "Training complete! train_accuracy: 0.657  val_accuracy: 0.669  train_loss: 0.609  val_loss: 0.654\n",
            "Starting model training... lr: 0.003230801447038454  epochs: 1  num_filters: 6  kernel_size: 32  pool_kernel_size: 91\n",
            "Training complete! train_accuracy: 0.667  val_accuracy: 0.655  train_loss: 0.6  val_loss: 0.679\n",
            "Starting model training... lr: 0.01645991900526921  epochs: 5  num_filters: 2  kernel_size: 83  pool_kernel_size: 68\n",
            "Training complete! train_accuracy: 0.664  val_accuracy: 0.64  train_loss: 0.603  val_loss: 0.654\n",
            "Starting model training... lr: 0.011349603942238228  epochs: 2  num_filters: 3  kernel_size: 16  pool_kernel_size: 76\n",
            "Training complete! train_accuracy: 0.662  val_accuracy: 0.656  train_loss: 0.605  val_loss: 0.645\n",
            "Starting model training... lr: 0.005770658579906897  epochs: 4  num_filters: 3  kernel_size: 64  pool_kernel_size: 73\n",
            "Training complete! train_accuracy: 0.607  val_accuracy: 0.562  train_loss: 0.656  val_loss: 0.692\n",
            "Starting model training... lr: 0.0039262682899382  epochs: 3  num_filters: 8  kernel_size: 78  pool_kernel_size: 38\n",
            "Training complete! train_accuracy: 0.682  val_accuracy: 0.643  train_loss: 0.582  val_loss: 0.661\n",
            "Starting model training... lr: 0.014273437844721376  epochs: 2  num_filters: 6  kernel_size: 99  pool_kernel_size: 85\n",
            "Training complete! train_accuracy: 0.667  val_accuracy: 0.636  train_loss: 0.602  val_loss: 0.639\n",
            "Starting model training... lr: 0.00906821596567223  epochs: 5  num_filters: 5  kernel_size: 46  pool_kernel_size: 36\n",
            "Training complete! train_accuracy: 0.675  val_accuracy: 0.644  train_loss: 0.589  val_loss: 0.658\n",
            "Starting model training... lr: 0.010408683401261887  epochs: 3  num_filters: 8  kernel_size: 65  pool_kernel_size: 95\n",
            "Training complete! train_accuracy: 0.663  val_accuracy: 0.638  train_loss: 0.605  val_loss: 0.649\n",
            "Starting model training... lr: 0.009323905843786586  epochs: 5  num_filters: 1  kernel_size: 42  pool_kernel_size: 60\n",
            "Training complete! train_accuracy: 0.606  val_accuracy: 0.563  train_loss: 0.658  val_loss: 0.694\n",
            "Starting model training... lr: 0.01326731119059768  epochs: 5  num_filters: 9  kernel_size: 17  pool_kernel_size: 59\n",
            "Training complete! train_accuracy: 0.666  val_accuracy: 0.656  train_loss: 0.602  val_loss: 0.648\n",
            "Starting model training... lr: 0.013028994988626617  epochs: 5  num_filters: 2  kernel_size: 95  pool_kernel_size: 38\n",
            "Training complete! train_accuracy: 0.61  val_accuracy: 0.561  train_loss: 0.656  val_loss: 0.702\n",
            "Starting model training... lr: 0.010618891442221976  epochs: 1  num_filters: 4  kernel_size: 26  pool_kernel_size: 11\n",
            "Training complete! train_accuracy: 0.626  val_accuracy: 0.618  train_loss: 0.65  val_loss: 0.619\n",
            "Starting model training... lr: 0.011515902672648248  epochs: 4  num_filters: 8  kernel_size: 69  pool_kernel_size: 79\n",
            "Training complete! train_accuracy: 0.678  val_accuracy: 0.647  train_loss: 0.588  val_loss: 0.658\n",
            "Starting model training... lr: 0.009800054363553957  epochs: 3  num_filters: 2  kernel_size: 50  pool_kernel_size: 17\n",
            "Training complete! train_accuracy: 0.668  val_accuracy: 0.649  train_loss: 0.601  val_loss: 0.62\n",
            "Starting model training... lr: 0.006641871460009682  epochs: 5  num_filters: 6  kernel_size: 50  pool_kernel_size: 98\n",
            "Training complete! train_accuracy: 0.677  val_accuracy: 0.643  train_loss: 0.586  val_loss: 0.667\n",
            "Starting model training... lr: 0.007423867854693004  epochs: 3  num_filters: 6  kernel_size: 60  pool_kernel_size: 57\n",
            "Training complete! train_accuracy: 0.671  val_accuracy: 0.643  train_loss: 0.592  val_loss: 0.65\n",
            "Starting model training... lr: 0.015920035896319525  epochs: 5  num_filters: 4  kernel_size: 38  pool_kernel_size: 48\n",
            "Training complete! train_accuracy: 0.673  val_accuracy: 0.653  train_loss: 0.592  val_loss: 0.648\n",
            "0 :  0.6685983827493261  lr:  0.01037539618283833  epochs: 4  num_filters: 2  kernel_size: 6  pool_kernel_size: 22\n",
            "1 :  0.6598113207547169  lr:  0.010850930040418889  epochs: 3  num_filters: 3  kernel_size: 12  pool_kernel_size: 22\n",
            "2 :  0.6588409703504043  lr:  0.013166648935463706  epochs: 4  num_filters: 6  kernel_size: 66  pool_kernel_size: 16\n",
            "3 :  0.6582749326145553  lr:  0.017860190015564006  epochs: 3  num_filters: 7  kernel_size: 39  pool_kernel_size: 34\n",
            "4 :  0.6566576819407008  lr:  0.0024972920696599834  epochs: 4  num_filters: 5  kernel_size: 48  pool_kernel_size: 5\n",
            "5 :  0.6565498652291105  lr:  0.004604750158706846  epochs: 5  num_filters: 7  kernel_size: 91  pool_kernel_size: 5\n",
            "6 :  0.6564690026954177  lr:  0.01326731119059768  epochs: 5  num_filters: 9  kernel_size: 17  pool_kernel_size: 59\n",
            "7 :  0.6563072776280323  lr:  0.0021537015336468646  epochs: 5  num_filters: 5  kernel_size: 6  pool_kernel_size: 83\n",
            "8 :  0.6562264150943397  lr:  0.01063382782120029  epochs: 4  num_filters: 7  kernel_size: 33  pool_kernel_size: 23\n",
            "9 :  0.6559568733153639  lr:  0.011349603942238228  epochs: 2  num_filters: 3  kernel_size: 16  pool_kernel_size: 76\n"
          ],
          "name": "stdout"
        }
      ]
    },
    {
      "cell_type": "code",
      "metadata": {
        "id": "w1Q2LGd2ZAkq",
        "colab_type": "code",
        "colab": {
          "base_uri": "https://localhost:8080/",
          "height": 331
        },
        "outputId": "db7143f7-1017-4638-8178-588014e802c7"
      },
      "source": [
        "a, b, c, d, model = train_model(0.01, 4, 250, 2, 6, 22, True)"
      ],
      "execution_count": 145,
      "outputs": [
        {
          "output_type": "stream",
          "text": [
            "Starting model training... lr: 0.01  epochs: 4  num_filters: 2  kernel_size: 6  pool_kernel_size: 22\n"
          ],
          "name": "stdout"
        },
        {
          "output_type": "display_data",
          "data": {
            "image/png": "[encoded data removed]",
            "text/plain": [
              "<Figure size 432x288 with 2 Axes>"
            ]
          },
          "metadata": {
            "tags": [],
            "needs_background": "light"
          }
        },
        {
          "output_type": "stream",
          "text": [
            "Training complete! train_accuracy: 0.656  val_accuracy: 0.666  train_loss: 0.608  val_loss: 0.664\n"
          ],
          "name": "stdout"
        }
      ]
    }
  ]
}