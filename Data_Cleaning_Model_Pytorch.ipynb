{
  "nbformat": 4,
  "nbformat_minor": 0,
  "metadata": {
    "colab": {
      "name": "Copy of Cleaning_Model_Pytorch.ipynb",
      "provenance": [],
      "collapsed_sections": []
    },
    "kernelspec": {
      "name": "python3",
      "display_name": "Python 3"
    },
    "accelerator": "GPU"
  },
  "cells": [
    {
      "cell_type": "code",
      "metadata": {
        "id": "vFEdcFcHCAG4",
        "colab_type": "code",
        "colab": {}
      },
      "source": [
        "import numpy as np\n",
        "from numpy import loadtxt\n",
        "from google.colab import drive\n",
        "import matplotlib.pyplot as plt\n",
        "import torch\n",
        "import torch.nn as nn\n",
        "import torch.nn.functional as F\n",
        "import torch.optim as optim\n",
        "from torch.utils.data import TensorDataset, DataLoader\n",
        "import scipy.io"
      ],
      "execution_count": null,
      "outputs": []
    },
    {
      "cell_type": "code",
      "metadata": {
        "id": "Ti9NunI6CIM_",
        "colab_type": "code",
        "colab": {
          "base_uri": "https://localhost:8080/",
          "height": 139
        },
        "outputId": "2fbbbbb0-9c0d-4cec-c9c0-655b00c93ef0"
      },
      "source": [
        "drive.mount('/content/gdrive')\n",
        "%cd /content/gdrive/My\\ Drive"
      ],
      "execution_count": null,
      "outputs": [
        {
          "output_type": "stream",
          "text": [
            "Go to this URL in a browser: https://accounts.google.com/o/oauth2/auth?client_id=947318989803-6bn6qk8qdgf4n4g3pfee6491hc0brc4i.apps.googleusercontent.com&redirect_uri=urn%3aietf%3awg%3aoauth%3a2.0%3aoob&response_type=code&scope=email%20https%3a%2f%2fwww.googleapis.com%2fauth%2fdocs.test%20https%3a%2f%2fwww.googleapis.com%2fauth%2fdrive%20https%3a%2f%2fwww.googleapis.com%2fauth%2fdrive.photos.readonly%20https%3a%2f%2fwww.googleapis.com%2fauth%2fpeopleapi.readonly\n",
            "\n",
            "Enter your authorization code:\n",
            "··········\n",
            "Mounted at /content/gdrive\n",
            "/content/gdrive/My Drive\n"
          ],
          "name": "stdout"
        }
      ]
    },
    {
      "cell_type": "markdown",
      "metadata": {
        "id": "JXvWT5BditsW",
        "colab_type": "text"
      },
      "source": [
        "Deep learning model attempting to mimic part of the EEG data cleaning process performed in the lab. Input is 3D time series, where each dimension is a channel of EEG recording from a random time and channel from a given participant after they consumed either psilocybin or placebo. First, a 1-D convolutional layer with shared filters across all 3 dimensions attempts to identify which of the 3 input channels would result in best classification performance. Then, an LSTM model predicts state of intoxication separately for each channel, and weights these 3 predictions using a softmax of the convolutional channel selection output. "
      ]
    },
    {
      "cell_type": "code",
      "metadata": {
        "id": "gXX-B4wUIXt2",
        "colab_type": "code",
        "colab": {}
      },
      "source": [
        "def loadData():\n",
        "  matdata = scipy.io.loadmat(\"PsiloClassifier/dataSplit/trainX3.mat\")\n",
        "  trainX = matdata['trainX']\n",
        "  matdata = scipy.io.loadmat(\"PsiloClassifier/dataSplit/trainY3.mat\")\n",
        "  trainY = matdata['trainY']\n",
        "  matdata = scipy.io.loadmat(\"PsiloClassifier/dataSplit/valX3.mat\")\n",
        "  valX = matdata['valX']\n",
        "  matdata = scipy.io.loadmat(\"PsiloClassifier/dataSplit/valY3.mat\")\n",
        "  valY = matdata['valY']\n",
        "  #matdata = scipy.io.loadmat(\"PsiloClassifier/dataSplit/testX3.mat\")\n",
        "  #testX = matdata['testX']\n",
        "  #matdata = scipy.io.loadmat(\"PsiloClassifier/dataSplit/testY3.mat\")\n",
        "  #testY = matdata['testY']\n",
        "\n",
        "  trainX = trainX.astype('float32')\n",
        "  valX = valX.astype('float32')\n",
        "  trainY = trainY.astype('float32').reshape((-1,1))\n",
        "  valY = valY.astype('float32').reshape((-1,1))\n",
        "  \n",
        "  shape = trainX.shape\n",
        "  samples = shape[0]\n",
        "  timesteps = shape[1]\n",
        "  trainX_0 = trainX[:, :, 0].reshape(samples, 1, timesteps)\n",
        "  trainX_1 = trainX[:, :, 1].reshape(samples, 1, timesteps)\n",
        "  trainX_2 = trainX[:, :, 2].reshape(samples, 1, timesteps)\n",
        "  \n",
        "  shape = valX.shape\n",
        "  samples = shape[0]\n",
        "  timesteps = shape[1]\n",
        "  valX_0 = valX[:, :, 0].reshape(samples, 1, timesteps)\n",
        "  valX_1 = valX[:, :, 0].reshape(samples, 1, timesteps)\n",
        "  valX_2 = valX[:, :, 0].reshape(samples, 1, timesteps)\n",
        "\n",
        "  trainX_0 = torch.tensor(trainX_0)\n",
        "  trainX_1 = torch.tensor(trainX_1)\n",
        "  trainX_2 = torch.tensor(trainX_2)\n",
        "  trainY = torch.tensor(trainY)\n",
        "  valX_0 = torch.tensor(valX_0)\n",
        "  valX_1 = torch.tensor(valX_1)\n",
        "  valX_2 = torch.tensor(valX_2)\n",
        "  valY = torch.tensor(valY)\n",
        "\n",
        "  return (trainX_0, trainX_1, trainX_2), trainY, (valX_0, valX_1, valX_2), valY;"
      ],
      "execution_count": null,
      "outputs": []
    },
    {
      "cell_type": "code",
      "metadata": {
        "id": "uV6C4UV-TsH7",
        "colab_type": "code",
        "colab": {}
      },
      "source": [
        "def createDataset(trainX, trainY, valX, valY):\n",
        "  train_ds = TensorDataset(trainX[0], trainX[1], trainX[2], trainY)\n",
        "  val_ds = TensorDataset(valX[0], valX[1], valX[2], valY)\n",
        "  return train_ds, val_ds"
      ],
      "execution_count": null,
      "outputs": []
    },
    {
      "cell_type": "code",
      "metadata": {
        "id": "yXwnDjsWUKuf",
        "colab_type": "code",
        "colab": {}
      },
      "source": [
        "def createDataLoaders(train_ds, val_ds, bs):\n",
        "  train_dl = DataLoader(train_ds, bs, shuffle=False)\n",
        "  val_dl = DataLoader(val_ds, bs, shuffle=False)\n",
        "  return train_dl, val_dl"
      ],
      "execution_count": null,
      "outputs": []
    },
    {
      "cell_type": "code",
      "metadata": {
        "id": "-wkLPdTH1EF2",
        "colab_type": "code",
        "colab": {}
      },
      "source": [
        "sigmoid = nn.Sigmoid()\n",
        "softmax = nn.Softmax(1)\n",
        "criterion = nn.BCELoss()\n",
        "\n",
        "def c_out_length(in_length, kernel_size, padding=0, dilation=1, stride=1):\n",
        "  length_out = ((in_length + 2*padding - dilation*(kernel_size - 1) - 1) / stride ) + 1\n",
        "  return length_out\n",
        "\n",
        "class CleaningClassifier(nn.Module):\n",
        "  def __init__(self, sample_length, num_filters, kernel_size, pool_kernel_size, output_dim):\n",
        "    super().__init__()\n",
        "    self.sample_length = sample_length\n",
        "    self.num_filters = num_filters\n",
        "    self.pool_kernel_size = pool_kernel_size\n",
        "\n",
        "    self.cleaning_conv = nn.Conv1d(1, num_filters, kernel_size)\n",
        "    self.cleaning_pool = nn.MaxPool1d(pool_kernel_size)\n",
        "    self.sample_choice = torch.zeros(3)\n",
        "    \n",
        "    conv_out_length = c_out_length(sample_length, kernel_size)\n",
        "    pool_out_length = int(conv_out_length/pool_kernel_size)\n",
        "    fully_connected_input = int(pool_out_length * num_filters)\n",
        "    self.fc_input = fully_connected_input\n",
        "    self.fc = nn.Linear(fully_connected_input, output_dim)\n",
        "\n",
        "    hidden_dim = 60\n",
        "    num_lstm_layers = 1\n",
        "    input_dim = 1\n",
        "    self.hidden_dim = hidden_dim\n",
        "    self.num_lstm_layers = num_lstm_layers\n",
        "    self.rnn = nn.LSTM(input_dim, hidden_dim, num_lstm_layers, batch_first=True)\n",
        "    self.fc1 = nn.Linear(hidden_dim, 16)\n",
        "    self.fc2 = nn.Linear(16, output_dim)\n",
        "  \n",
        "  def init_hidden(self, x):\n",
        "    h0 = torch.zeros(self.num_lstm_layers, x.size(0), self.hidden_dim).to(device)\n",
        "    c0 = torch.zeros(self.num_lstm_layers, x.size(0), self.hidden_dim).to(device)\n",
        "    return h0, c0\n",
        "\n",
        "  def forward(self, c1, c2, c3):\n",
        "    c1_choice = self.cleaning_conv(c1)\n",
        "    c1_choice = self.cleaning_pool(c1_choice)\n",
        "    c1_choice = c1_choice.view(-1, self.fc_input)\n",
        "    c1_choice = self.fc(c1_choice)\n",
        "\n",
        "    c2_choice = self.cleaning_conv(c2)\n",
        "    c2_choice = self.cleaning_pool(c2_choice)\n",
        "    c2_choice = c2_choice.view(-1, self.fc_input)\n",
        "    c2_choice = self.fc(c2_choice)\n",
        "\n",
        "    c3_choice = self.cleaning_conv(c3)\n",
        "    c3_choice = self.cleaning_pool(c3_choice)\n",
        "    c3_choice = c3_choice.view(-1, self.fc_input)\n",
        "    c3_choice = self.fc(c3_choice)\n",
        "    \n",
        "    sample_choice = torch.cat((c1_choice, c2_choice, c3_choice), 1)\n",
        "    sample_choice = softmax(sample_choice)\n",
        "\n",
        "    c1 = c1.permute(0,2,1)\n",
        "    c2 = c2.permute(0,2,1)\n",
        "    c3 = c3.permute(0,2,1)\n",
        "\n",
        "    h0, c0 = self.init_hidden(c1)\n",
        "    out, (hn, cn) = self.rnn(c1, (h0, c0))\n",
        "    out = self.fc1(out[:, -1, :])\n",
        "    out = self.fc2(out)\n",
        "    combined_output = out * torch.reshape(sample_choice[:, 0], (-1, 1))\n",
        "\n",
        "    h0, c0 = self.init_hidden(c2)\n",
        "    out, (hn, cn) = self.rnn(c2, (h0, c0))\n",
        "    out = self.fc1(out[:, -1, :])\n",
        "    out = self.fc2(out)\n",
        "    combined_output += out * torch.reshape(sample_choice[:, 1], (-1, 1))\n",
        "\n",
        "    h0, c0 = self.init_hidden(c3)\n",
        "    out, (hn, cn) = self.rnn(c3, (h0, c0))\n",
        "    out = self.fc1(out[:, -1, :])\n",
        "    out = self.fc2(out)\n",
        "    combined_output += out * torch.reshape(sample_choice[:, 2], (-1, 1))\n",
        "\n",
        "    combined_output = sigmoid(combined_output)\n",
        "\n",
        "    return combined_output\n",
        "\n",
        "def accuracyAndLoss(data_loader, model):\n",
        "  total, correct, loss, batches = 0, 0, 0, 0\n",
        "  model.eval()\n",
        "  for c1, c2, c3, y in data_loader:\n",
        "    c1 = c1.to(device)\n",
        "    c2 = c2.to(device)\n",
        "    c3 = c3.to(device)\n",
        "    y = y.to(device)\n",
        "    out = model(c1, c2, c3)\n",
        "    preds = out.round()\n",
        "    total += y.size(0)\n",
        "    batches += 1\n",
        "    correct += (preds == y).sum().item()\n",
        "    loss += criterion(out, y)\n",
        "  return correct/total, loss/batches"
      ],
      "execution_count": null,
      "outputs": []
    },
    {
      "cell_type": "code",
      "metadata": {
        "id": "CscN6OQl0HNi",
        "colab_type": "code",
        "colab": {}
      },
      "source": [
        "device = torch.device(\"cuda:0\" if torch.cuda.is_available() else \"cpu\")\n",
        "trainX, trainY, valX, valY = loadData()\n",
        "train_ds, val_ds = createDataset(trainX, trainY, valX, valY)\n",
        "train_dl, val_dl = createDataLoaders(train_ds, val_ds, bs=512)"
      ],
      "execution_count": null,
      "outputs": []
    },
    {
      "cell_type": "code",
      "metadata": {
        "id": "oFH3RFNOuV4x",
        "colab_type": "code",
        "colab": {}
      },
      "source": [
        "def train_model(lr, epochs, sample_length, num_filters, kernel_size, pool_kernel_size, plot=False):\n",
        "  model = CleaningClassifier(sample_length, num_filters, kernel_size, pool_kernel_size, 1).to(device)\n",
        "  criterion = nn.BCELoss()\n",
        "  opt = torch.optim.RMSprop(model.parameters(), lr=lr)\n",
        "  train_accuracy = []\n",
        "  val_accuracy = []\n",
        "  train_loss = []\n",
        "  val_loss = []\n",
        "\n",
        "  print('Starting model training... lr:', lr, ' epochs:', epochs,  ' num_filters:', num_filters, ' kernel_size:', kernel_size, ' pool_kernel_size:', pool_kernel_size)\n",
        "\n",
        "  for epoch in range(epochs):\n",
        "      for i, (c1_batch, c2_batch, c3_batch, y_batch) in enumerate(train_dl):\n",
        "          model.train()\n",
        "          opt.zero_grad()\n",
        "          c1_batch = c1_batch.to(device)\n",
        "          c2_batch = c2_batch.to(device)\n",
        "          c3_batch = c3_batch.to(device)\n",
        "          y_batch = y_batch.to(device)\n",
        "          out = model(c1_batch, c2_batch, c3_batch)\n",
        "          loss = criterion(out, y_batch)\n",
        "          loss.backward()\n",
        "          opt.step()\n",
        "      \n",
        "      with torch.no_grad():\n",
        "        train_accuracy_, train_loss_ = accuracyAndLoss(train_dl, model)\n",
        "        train_accuracy.append(train_accuracy_)\n",
        "        train_loss.append(train_loss_)\n",
        "        val_accuracy_, val_loss_ = accuracyAndLoss(val_dl, model)\n",
        "        val_accuracy.append(val_accuracy_)\n",
        "        val_loss.append(val_loss_)\n",
        "\n",
        "      print('Epoch ' , epoch , '... train_accuracy:', round(train_accuracy[-1], 3), ' val_accuracy:', round(val_accuracy[-1], 3), ' train_loss:', round(train_loss[-1].item(), 3), ' val_loss:', round(val_loss[-1].item(), 3) )\n",
        "\n",
        "  if plot == True: \n",
        "    plt.subplot(2,1,1)\n",
        "    plt.plot(train_accuracy, 'b')\n",
        "    plt.title(\"accuracy\")\n",
        "    plt.plot(val_accuracy, 'r')\n",
        "\n",
        "    plt.subplot(2,1,2)\n",
        "    plt.plot(train_loss, 'b')\n",
        "    plt.title(\"loss\")\n",
        "    plt.plot(val_loss, 'r')\n",
        "\n",
        "    plt.tight_layout()\n",
        "    plt.show()\n",
        "\n",
        "  print('Training complete! train_accuracy:', round(train_accuracy[-1], 3), ' val_accuracy:', round(val_accuracy[-1], 3), ' train_loss:', round(train_loss[-1].item(), 3), ' val_loss:', round(val_loss[-1].item(), 3) )\n",
        "\n",
        "  return train_accuracy, val_accuracy, train_loss, val_loss, model;"
      ],
      "execution_count": null,
      "outputs": []
    },
    {
      "cell_type": "code",
      "metadata": {
        "id": "qeRqw10N08UE",
        "colab_type": "code",
        "colab": {
          "base_uri": "https://localhost:8080/",
          "height": 1000
        },
        "outputId": "94753608-f9a2-4dc2-e618-df57a97da694"
      },
      "source": [
        "a, b, c, d, model = train_model(0.001, 80, 250, 5, 30, 50, True)"
      ],
      "execution_count": null,
      "outputs": [
        {
          "output_type": "stream",
          "text": [
            "Starting model training... lr: 0.001  epochs: 80  num_filters: 5  kernel_size: 30  pool_kernel_size: 50\n",
            "Epoch  0 ... train_accuracy: 0.618  val_accuracy: 0.53  train_loss: 0.648  val_loss: 0.747\n",
            "Epoch  1 ... train_accuracy: 0.571  val_accuracy: 0.514  train_loss: 0.673  val_loss: 0.706\n",
            "Epoch  2 ... train_accuracy: 0.619  val_accuracy: 0.53  train_loss: 0.651  val_loss: 0.783\n",
            "Epoch  3 ... train_accuracy: 0.605  val_accuracy: 0.517  train_loss: 0.657  val_loss: 0.776\n",
            "Epoch  4 ... train_accuracy: 0.619  val_accuracy: 0.52  train_loss: 0.649  val_loss: 0.769\n",
            "Epoch  5 ... train_accuracy: 0.555  val_accuracy: 0.499  train_loss: 0.683  val_loss: 0.702\n",
            "Epoch  6 ... train_accuracy: 0.613  val_accuracy: 0.523  train_loss: 0.66  val_loss: 0.72\n",
            "Epoch  7 ... train_accuracy: 0.506  val_accuracy: 0.494  train_loss: 0.694  val_loss: 0.699\n",
            "Epoch  8 ... train_accuracy: 0.519  val_accuracy: 0.492  train_loss: 0.692  val_loss: 0.696\n",
            "Epoch  9 ... train_accuracy: 0.532  val_accuracy: 0.493  train_loss: 0.689  val_loss: 0.699\n",
            "Epoch  10 ... train_accuracy: 0.545  val_accuracy: 0.493  train_loss: 0.687  val_loss: 0.703\n",
            "Epoch  11 ... train_accuracy: 0.549  val_accuracy: 0.493  train_loss: 0.686  val_loss: 0.703\n",
            "Epoch  12 ... train_accuracy: 0.552  val_accuracy: 0.492  train_loss: 0.686  val_loss: 0.702\n",
            "Epoch  13 ... train_accuracy: 0.563  val_accuracy: 0.493  train_loss: 0.683  val_loss: 0.706\n",
            "Epoch  14 ... train_accuracy: 0.582  val_accuracy: 0.495  train_loss: 0.676  val_loss: 0.71\n",
            "Epoch  15 ... train_accuracy: 0.582  val_accuracy: 0.493  train_loss: 0.674  val_loss: 0.721\n",
            "Epoch  16 ... train_accuracy: 0.639  val_accuracy: 0.532  train_loss: 0.636  val_loss: 0.749\n",
            "Epoch  17 ... train_accuracy: 0.664  val_accuracy: 0.553  train_loss: 0.611  val_loss: 0.769\n",
            "Epoch  18 ... train_accuracy: 0.68  val_accuracy: 0.565  train_loss: 0.589  val_loss: 0.801\n",
            "Epoch  19 ... train_accuracy: 0.705  val_accuracy: 0.571  train_loss: 0.56  val_loss: 0.845\n",
            "Epoch  20 ... train_accuracy: 0.718  val_accuracy: 0.572  train_loss: 0.542  val_loss: 0.872\n",
            "Epoch  21 ... train_accuracy: 0.726  val_accuracy: 0.57  train_loss: 0.53  val_loss: 0.908\n",
            "Epoch  22 ... train_accuracy: 0.733  val_accuracy: 0.577  train_loss: 0.52  val_loss: 0.904\n",
            "Epoch  23 ... train_accuracy: 0.733  val_accuracy: 0.57  train_loss: 0.518  val_loss: 0.957\n",
            "Epoch  24 ... train_accuracy: 0.741  val_accuracy: 0.572  train_loss: 0.506  val_loss: 0.935\n",
            "Epoch  25 ... train_accuracy: 0.746  val_accuracy: 0.575  train_loss: 0.501  val_loss: 0.933\n",
            "Epoch  26 ... train_accuracy: 0.748  val_accuracy: 0.575  train_loss: 0.497  val_loss: 0.945\n",
            "Epoch  27 ... train_accuracy: 0.754  val_accuracy: 0.578  train_loss: 0.487  val_loss: 0.981\n",
            "Epoch  28 ... train_accuracy: 0.748  val_accuracy: 0.587  train_loss: 0.499  val_loss: 0.927\n",
            "Epoch  29 ... train_accuracy: 0.76  val_accuracy: 0.583  train_loss: 0.479  val_loss: 1.002\n",
            "Epoch  30 ... train_accuracy: 0.765  val_accuracy: 0.588  train_loss: 0.472  val_loss: 1.013\n",
            "Epoch  31 ... train_accuracy: 0.759  val_accuracy: 0.594  train_loss: 0.48  val_loss: 0.96\n",
            "Epoch  32 ... train_accuracy: 0.769  val_accuracy: 0.604  train_loss: 0.466  val_loss: 0.969\n",
            "Epoch  33 ... train_accuracy: 0.769  val_accuracy: 0.61  train_loss: 0.465  val_loss: 0.975\n",
            "Epoch  34 ... train_accuracy: 0.772  val_accuracy: 0.616  train_loss: 0.462  val_loss: 0.93\n",
            "Epoch  35 ... train_accuracy: 0.782  val_accuracy: 0.625  train_loss: 0.447  val_loss: 0.92\n",
            "Epoch  36 ... train_accuracy: 0.787  val_accuracy: 0.625  train_loss: 0.436  val_loss: 0.977\n",
            "Epoch  37 ... train_accuracy: 0.788  val_accuracy: 0.626  train_loss: 0.436  val_loss: 0.975\n",
            "Epoch  38 ... train_accuracy: 0.79  val_accuracy: 0.632  train_loss: 0.43  val_loss: 1.035\n",
            "Epoch  39 ... train_accuracy: 0.795  val_accuracy: 0.626  train_loss: 0.423  val_loss: 1.041\n",
            "Epoch  40 ... train_accuracy: 0.795  val_accuracy: 0.625  train_loss: 0.424  val_loss: 0.994\n",
            "Epoch  41 ... train_accuracy: 0.796  val_accuracy: 0.628  train_loss: 0.421  val_loss: 0.981\n",
            "Epoch  42 ... train_accuracy: 0.795  val_accuracy: 0.63  train_loss: 0.421  val_loss: 1.071\n",
            "Epoch  43 ... train_accuracy: 0.802  val_accuracy: 0.627  train_loss: 0.41  val_loss: 1.04\n",
            "Epoch  44 ... train_accuracy: 0.804  val_accuracy: 0.624  train_loss: 0.406  val_loss: 1.1\n",
            "Epoch  45 ... train_accuracy: 0.783  val_accuracy: 0.616  train_loss: 0.446  val_loss: 1.021\n",
            "Epoch  46 ... train_accuracy: 0.802  val_accuracy: 0.628  train_loss: 0.409  val_loss: 1.052\n",
            "Epoch  47 ... train_accuracy: 0.805  val_accuracy: 0.624  train_loss: 0.404  val_loss: 1.043\n",
            "Epoch  48 ... train_accuracy: 0.806  val_accuracy: 0.62  train_loss: 0.403  val_loss: 1.055\n",
            "Epoch  49 ... train_accuracy: 0.812  val_accuracy: 0.625  train_loss: 0.394  val_loss: 1.142\n",
            "Epoch  50 ... train_accuracy: 0.808  val_accuracy: 0.624  train_loss: 0.401  val_loss: 1.152\n",
            "Epoch  51 ... train_accuracy: 0.813  val_accuracy: 0.622  train_loss: 0.392  val_loss: 1.197\n",
            "Epoch  52 ... train_accuracy: 0.813  val_accuracy: 0.626  train_loss: 0.39  val_loss: 1.206\n",
            "Epoch  53 ... train_accuracy: 0.819  val_accuracy: 0.625  train_loss: 0.383  val_loss: 1.166\n",
            "Epoch  54 ... train_accuracy: 0.817  val_accuracy: 0.624  train_loss: 0.383  val_loss: 1.248\n",
            "Epoch  55 ... train_accuracy: 0.821  val_accuracy: 0.621  train_loss: 0.378  val_loss: 1.179\n",
            "Epoch  56 ... train_accuracy: 0.821  val_accuracy: 0.623  train_loss: 0.377  val_loss: 1.157\n",
            "Epoch  57 ... train_accuracy: 0.823  val_accuracy: 0.621  train_loss: 0.375  val_loss: 1.175\n",
            "Epoch  58 ... train_accuracy: 0.824  val_accuracy: 0.623  train_loss: 0.371  val_loss: 1.246\n",
            "Epoch  59 ... train_accuracy: 0.822  val_accuracy: 0.619  train_loss: 0.375  val_loss: 1.133\n",
            "Epoch  60 ... train_accuracy: 0.824  val_accuracy: 0.619  train_loss: 0.373  val_loss: 1.152\n",
            "Epoch  61 ... train_accuracy: 0.812  val_accuracy: 0.615  train_loss: 0.394  val_loss: 1.154\n",
            "Epoch  62 ... train_accuracy: 0.826  val_accuracy: 0.614  train_loss: 0.369  val_loss: 1.185\n",
            "Epoch  63 ... train_accuracy: 0.819  val_accuracy: 0.613  train_loss: 0.386  val_loss: 1.279\n",
            "Epoch  64 ... train_accuracy: 0.824  val_accuracy: 0.618  train_loss: 0.37  val_loss: 1.327\n",
            "Epoch  65 ... train_accuracy: 0.832  val_accuracy: 0.618  train_loss: 0.357  val_loss: 1.236\n",
            "Epoch  66 ... train_accuracy: 0.831  val_accuracy: 0.612  train_loss: 0.36  val_loss: 1.326\n",
            "Epoch  67 ... train_accuracy: 0.832  val_accuracy: 0.609  train_loss: 0.358  val_loss: 1.263\n",
            "Epoch  68 ... train_accuracy: 0.835  val_accuracy: 0.616  train_loss: 0.352  val_loss: 1.311\n",
            "Epoch  69 ... train_accuracy: 0.834  val_accuracy: 0.613  train_loss: 0.355  val_loss: 1.276\n",
            "Epoch  70 ... train_accuracy: 0.834  val_accuracy: 0.613  train_loss: 0.352  val_loss: 1.273\n",
            "Epoch  71 ... train_accuracy: 0.834  val_accuracy: 0.612  train_loss: 0.353  val_loss: 1.309\n",
            "Epoch  72 ... train_accuracy: 0.823  val_accuracy: 0.611  train_loss: 0.372  val_loss: 1.256\n",
            "Epoch  73 ... train_accuracy: 0.826  val_accuracy: 0.611  train_loss: 0.367  val_loss: 1.222\n",
            "Epoch  74 ... train_accuracy: 0.84  val_accuracy: 0.616  train_loss: 0.344  val_loss: 1.357\n",
            "Epoch  75 ... train_accuracy: 0.838  val_accuracy: 0.614  train_loss: 0.346  val_loss: 1.288\n",
            "Epoch  76 ... train_accuracy: 0.838  val_accuracy: 0.61  train_loss: 0.346  val_loss: 1.329\n",
            "Epoch  77 ... train_accuracy: 0.84  val_accuracy: 0.611  train_loss: 0.345  val_loss: 1.314\n",
            "Epoch  78 ... train_accuracy: 0.829  val_accuracy: 0.61  train_loss: 0.361  val_loss: 1.26\n",
            "Epoch  79 ... train_accuracy: 0.84  val_accuracy: 0.603  train_loss: 0.342  val_loss: 1.405\n"
          ],
          "name": "stdout"
        },
        {
          "output_type": "display_data",
          "data": {
            "image/png": "[encoded data removed]",
            "text/plain": [
              "<Figure size 432x288 with 2 Axes>"
            ]
          },
          "metadata": {
            "tags": [],
            "needs_background": "light"
          }
        },
        {
          "output_type": "stream",
          "text": [
            "Training complete! train_accuracy: 0.84  val_accuracy: 0.603  train_loss: 0.342  val_loss: 1.405\n"
          ],
          "name": "stdout"
        }
      ]
    },
    {
      "cell_type": "code",
      "metadata": {
        "id": "bw81i-Q6fRmA",
        "colab_type": "code",
        "colab": {
          "base_uri": "https://localhost:8080/",
          "height": 1000
        },
        "outputId": "1a989c10-eaf7-438e-a11b-279a3ea5ab5d"
      },
      "source": [
        "a, b, c, d, model = train_model(0.001, 80, 250, 5, 80, 40, True)"
      ],
      "execution_count": null,
      "outputs": [
        {
          "output_type": "stream",
          "text": [
            "Starting model training... lr: 0.001  epochs: 80  num_filters: 5  kernel_size: 80  pool_kernel_size: 40\n",
            "Epoch  0 ... train_accuracy: 0.587  val_accuracy: 0.535  train_loss: 0.67  val_loss: 0.699\n",
            "Epoch  1 ... train_accuracy: 0.593  val_accuracy: 0.51  train_loss: 0.674  val_loss: 0.702\n",
            "Epoch  2 ... train_accuracy: 0.625  val_accuracy: 0.529  train_loss: 0.646  val_loss: 0.778\n",
            "Epoch  3 ... train_accuracy: 0.653  val_accuracy: 0.556  train_loss: 0.626  val_loss: 0.774\n",
            "Epoch  4 ... train_accuracy: 0.563  val_accuracy: 0.498  train_loss: 0.681  val_loss: 0.703\n",
            "Epoch  5 ... train_accuracy: 0.535  val_accuracy: 0.49  train_loss: 0.688  val_loss: 0.701\n",
            "Epoch  6 ... train_accuracy: 0.552  val_accuracy: 0.503  train_loss: 0.684  val_loss: 0.704\n",
            "Epoch  7 ... train_accuracy: 0.55  val_accuracy: 0.5  train_loss: 0.685  val_loss: 0.704\n",
            "Epoch  8 ... train_accuracy: 0.577  val_accuracy: 0.512  train_loss: 0.67  val_loss: 0.72\n",
            "Epoch  9 ... train_accuracy: 0.647  val_accuracy: 0.549  train_loss: 0.629  val_loss: 0.78\n",
            "Epoch  10 ... train_accuracy: 0.639  val_accuracy: 0.527  train_loss: 0.639  val_loss: 0.739\n",
            "Epoch  11 ... train_accuracy: 0.54  val_accuracy: 0.495  train_loss: 0.687  val_loss: 0.702\n",
            "Epoch  12 ... train_accuracy: 0.631  val_accuracy: 0.534  train_loss: 0.652  val_loss: 0.763\n",
            "Epoch  13 ... train_accuracy: 0.637  val_accuracy: 0.52  train_loss: 0.638  val_loss: 0.751\n",
            "Epoch  14 ... train_accuracy: 0.56  val_accuracy: 0.503  train_loss: 0.682  val_loss: 0.703\n",
            "Epoch  15 ... train_accuracy: 0.501  val_accuracy: 0.501  train_loss: 0.694  val_loss: 0.695\n",
            "Epoch  16 ... train_accuracy: 0.527  val_accuracy: 0.491  train_loss: 0.69  val_loss: 0.698\n",
            "Epoch  17 ... train_accuracy: 0.536  val_accuracy: 0.49  train_loss: 0.689  val_loss: 0.702\n",
            "Epoch  18 ... train_accuracy: 0.556  val_accuracy: 0.493  train_loss: 0.685  val_loss: 0.702\n",
            "Epoch  19 ... train_accuracy: 0.572  val_accuracy: 0.508  train_loss: 0.68  val_loss: 0.702\n",
            "Epoch  20 ... train_accuracy: 0.58  val_accuracy: 0.511  train_loss: 0.676  val_loss: 0.706\n",
            "Epoch  21 ... train_accuracy: 0.592  val_accuracy: 0.509  train_loss: 0.673  val_loss: 0.73\n",
            "Epoch  22 ... train_accuracy: 0.632  val_accuracy: 0.511  train_loss: 0.639  val_loss: 0.752\n",
            "Epoch  23 ... train_accuracy: 0.66  val_accuracy: 0.548  train_loss: 0.613  val_loss: 0.752\n",
            "Epoch  24 ... train_accuracy: 0.623  val_accuracy: 0.529  train_loss: 0.638  val_loss: 0.756\n",
            "Epoch  25 ... train_accuracy: 0.626  val_accuracy: 0.531  train_loss: 0.635  val_loss: 0.76\n",
            "Epoch  26 ... train_accuracy: 0.649  val_accuracy: 0.545  train_loss: 0.614  val_loss: 0.781\n",
            "Epoch  27 ... train_accuracy: 0.682  val_accuracy: 0.559  train_loss: 0.584  val_loss: 0.817\n",
            "Epoch  28 ... train_accuracy: 0.691  val_accuracy: 0.562  train_loss: 0.573  val_loss: 0.838\n",
            "Epoch  29 ... train_accuracy: 0.696  val_accuracy: 0.567  train_loss: 0.564  val_loss: 0.849\n",
            "Epoch  30 ... train_accuracy: 0.697  val_accuracy: 0.573  train_loss: 0.561  val_loss: 0.83\n",
            "Epoch  31 ... train_accuracy: 0.7  val_accuracy: 0.576  train_loss: 0.558  val_loss: 0.842\n",
            "Epoch  32 ... train_accuracy: 0.7  val_accuracy: 0.57  train_loss: 0.557  val_loss: 0.856\n",
            "Epoch  33 ... train_accuracy: 0.706  val_accuracy: 0.574  train_loss: 0.55  val_loss: 0.866\n",
            "Epoch  34 ... train_accuracy: 0.71  val_accuracy: 0.578  train_loss: 0.545  val_loss: 0.873\n",
            "Epoch  35 ... train_accuracy: 0.711  val_accuracy: 0.585  train_loss: 0.54  val_loss: 0.895\n",
            "Epoch  36 ... train_accuracy: 0.718  val_accuracy: 0.588  train_loss: 0.535  val_loss: 0.911\n",
            "Epoch  37 ... train_accuracy: 0.72  val_accuracy: 0.589  train_loss: 0.532  val_loss: 0.934\n",
            "Epoch  38 ... train_accuracy: 0.714  val_accuracy: 0.587  train_loss: 0.535  val_loss: 0.933\n",
            "Epoch  39 ... train_accuracy: 0.711  val_accuracy: 0.588  train_loss: 0.54  val_loss: 0.934\n",
            "Epoch  40 ... train_accuracy: 0.725  val_accuracy: 0.592  train_loss: 0.525  val_loss: 0.971\n",
            "Epoch  41 ... train_accuracy: 0.725  val_accuracy: 0.593  train_loss: 0.524  val_loss: 0.965\n",
            "Epoch  42 ... train_accuracy: 0.733  val_accuracy: 0.596  train_loss: 0.515  val_loss: 1.001\n",
            "Epoch  43 ... train_accuracy: 0.731  val_accuracy: 0.6  train_loss: 0.516  val_loss: 0.991\n",
            "Epoch  44 ... train_accuracy: 0.74  val_accuracy: 0.602  train_loss: 0.507  val_loss: 1.018\n",
            "Epoch  45 ... train_accuracy: 0.733  val_accuracy: 0.602  train_loss: 0.514  val_loss: 1.015\n",
            "Epoch  46 ... train_accuracy: 0.731  val_accuracy: 0.604  train_loss: 0.516  val_loss: 0.992\n",
            "Epoch  47 ... train_accuracy: 0.733  val_accuracy: 0.605  train_loss: 0.513  val_loss: 0.993\n",
            "Epoch  48 ... train_accuracy: 0.744  val_accuracy: 0.606  train_loss: 0.5  val_loss: 1.034\n",
            "Epoch  49 ... train_accuracy: 0.748  val_accuracy: 0.61  train_loss: 0.495  val_loss: 1.046\n",
            "Epoch  50 ... train_accuracy: 0.744  val_accuracy: 0.613  train_loss: 0.498  val_loss: 1.024\n",
            "Epoch  51 ... train_accuracy: 0.75  val_accuracy: 0.615  train_loss: 0.492  val_loss: 1.071\n",
            "Epoch  52 ... train_accuracy: 0.744  val_accuracy: 0.617  train_loss: 0.498  val_loss: 1.021\n",
            "Epoch  53 ... train_accuracy: 0.751  val_accuracy: 0.621  train_loss: 0.491  val_loss: 1.031\n",
            "Epoch  54 ... train_accuracy: 0.753  val_accuracy: 0.622  train_loss: 0.486  val_loss: 1.051\n",
            "Epoch  55 ... train_accuracy: 0.755  val_accuracy: 0.623  train_loss: 0.484  val_loss: 1.059\n",
            "Epoch  56 ... train_accuracy: 0.754  val_accuracy: 0.626  train_loss: 0.485  val_loss: 1.041\n",
            "Epoch  57 ... train_accuracy: 0.756  val_accuracy: 0.626  train_loss: 0.483  val_loss: 1.023\n",
            "Epoch  58 ... train_accuracy: 0.759  val_accuracy: 0.63  train_loss: 0.477  val_loss: 1.023\n",
            "Epoch  59 ... train_accuracy: 0.764  val_accuracy: 0.632  train_loss: 0.472  val_loss: 1.058\n",
            "Epoch  60 ... train_accuracy: 0.761  val_accuracy: 0.632  train_loss: 0.475  val_loss: 1.051\n",
            "Epoch  61 ... train_accuracy: 0.764  val_accuracy: 0.637  train_loss: 0.47  val_loss: 1.055\n",
            "Epoch  62 ... train_accuracy: 0.764  val_accuracy: 0.64  train_loss: 0.47  val_loss: 1.028\n",
            "Epoch  63 ... train_accuracy: 0.766  val_accuracy: 0.64  train_loss: 0.467  val_loss: 1.083\n",
            "Epoch  64 ... train_accuracy: 0.768  val_accuracy: 0.642  train_loss: 0.464  val_loss: 1.058\n",
            "Epoch  65 ... train_accuracy: 0.77  val_accuracy: 0.646  train_loss: 0.461  val_loss: 1.053\n",
            "Epoch  66 ... train_accuracy: 0.771  val_accuracy: 0.645  train_loss: 0.46  val_loss: 1.057\n",
            "Epoch  67 ... train_accuracy: 0.772  val_accuracy: 0.648  train_loss: 0.458  val_loss: 1.062\n",
            "Epoch  68 ... train_accuracy: 0.772  val_accuracy: 0.649  train_loss: 0.458  val_loss: 1.078\n",
            "Epoch  69 ... train_accuracy: 0.771  val_accuracy: 0.649  train_loss: 0.458  val_loss: 1.097\n",
            "Epoch  70 ... train_accuracy: 0.773  val_accuracy: 0.646  train_loss: 0.455  val_loss: 1.067\n",
            "Epoch  71 ... train_accuracy: 0.774  val_accuracy: 0.645  train_loss: 0.453  val_loss: 1.109\n",
            "Epoch  72 ... train_accuracy: 0.776  val_accuracy: 0.646  train_loss: 0.45  val_loss: 1.1\n",
            "Epoch  73 ... train_accuracy: 0.774  val_accuracy: 0.648  train_loss: 0.453  val_loss: 1.093\n",
            "Epoch  74 ... train_accuracy: 0.782  val_accuracy: 0.637  train_loss: 0.443  val_loss: 1.115\n",
            "Epoch  75 ... train_accuracy: 0.784  val_accuracy: 0.639  train_loss: 0.437  val_loss: 1.172\n",
            "Epoch  76 ... train_accuracy: 0.785  val_accuracy: 0.639  train_loss: 0.436  val_loss: 1.165\n",
            "Epoch  77 ... train_accuracy: 0.784  val_accuracy: 0.636  train_loss: 0.438  val_loss: 1.193\n",
            "Epoch  78 ... train_accuracy: 0.785  val_accuracy: 0.638  train_loss: 0.435  val_loss: 1.226\n",
            "Epoch  79 ... train_accuracy: 0.788  val_accuracy: 0.638  train_loss: 0.431  val_loss: 1.258\n"
          ],
          "name": "stdout"
        },
        {
          "output_type": "display_data",
          "data": {
            "image/png": "[encoded data removed]",
            "text/plain": [
              "<Figure size 432x288 with 2 Axes>"
            ]
          },
          "metadata": {
            "tags": [],
            "needs_background": "light"
          }
        },
        {
          "output_type": "stream",
          "text": [
            "Training complete! train_accuracy: 0.788  val_accuracy: 0.638  train_loss: 0.431  val_loss: 1.258\n"
          ],
          "name": "stdout"
        }
      ]
    }
  ]
}
