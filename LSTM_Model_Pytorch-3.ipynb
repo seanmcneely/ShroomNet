{
  "nbformat": 4,
  "nbformat_minor": 0,
  "metadata": {
    "colab": {
      "name": "LSTM_Model_Pytorch.ipynb",
      "provenance": [],
      "collapsed_sections": []
    },
    "kernelspec": {
      "name": "python3",
      "display_name": "Python 3"
    },
    "accelerator": "GPU"
  },
  "cells": [
    {
      "cell_type": "code",
      "metadata": {
        "id": "vFEdcFcHCAG4",
        "colab_type": "code",
        "colab": {
          "base_uri": "https://localhost:8080/",
          "height": 351
        },
        "outputId": "1b7f4674-00a3-4d2f-a9a7-f3fc5a2ad31b"
      },
      "source": [
        "import numpy as np\n",
        "from numpy import loadtxt\n",
        "from google.colab import drive\n",
        "import matplotlib.pyplot as plt\n",
        "import torch\n",
        "import torch.nn as nn\n",
        "import torch.nn.functional as F\n",
        "import torch.optim as optim\n",
        "from torch.utils.data import TensorDataset, DataLoader"
      ],
      "execution_count": 1,
      "outputs": [
        {
          "output_type": "error",
          "ename": "KeyboardInterrupt",
          "evalue": "ignored",
          "traceback": [
            "\u001b[0;31m---------------------------------------------------------------------------\u001b[0m",
            "\u001b[0;31mKeyboardInterrupt\u001b[0m                         Traceback (most recent call last)",
            "\u001b[0;32m<ipython-input-1-cf091fd19db0>\u001b[0m in \u001b[0;36m<module>\u001b[0;34m()\u001b[0m\n\u001b[1;32m      3\u001b[0m \u001b[0;32mfrom\u001b[0m \u001b[0mgoogle\u001b[0m\u001b[0;34m.\u001b[0m\u001b[0mcolab\u001b[0m \u001b[0;32mimport\u001b[0m \u001b[0mdrive\u001b[0m\u001b[0;34m\u001b[0m\u001b[0;34m\u001b[0m\u001b[0m\n\u001b[1;32m      4\u001b[0m \u001b[0;32mimport\u001b[0m \u001b[0mmatplotlib\u001b[0m\u001b[0;34m.\u001b[0m\u001b[0mpyplot\u001b[0m \u001b[0;32mas\u001b[0m \u001b[0mplt\u001b[0m\u001b[0;34m\u001b[0m\u001b[0;34m\u001b[0m\u001b[0m\n\u001b[0;32m----> 5\u001b[0;31m \u001b[0;32mimport\u001b[0m \u001b[0mtorch\u001b[0m\u001b[0;34m\u001b[0m\u001b[0;34m\u001b[0m\u001b[0m\n\u001b[0m\u001b[1;32m      6\u001b[0m \u001b[0;32mimport\u001b[0m \u001b[0mtorch\u001b[0m\u001b[0;34m.\u001b[0m\u001b[0mnn\u001b[0m \u001b[0;32mas\u001b[0m \u001b[0mnn\u001b[0m\u001b[0;34m\u001b[0m\u001b[0;34m\u001b[0m\u001b[0m\n\u001b[1;32m      7\u001b[0m \u001b[0;32mimport\u001b[0m \u001b[0mtorch\u001b[0m\u001b[0;34m.\u001b[0m\u001b[0mnn\u001b[0m\u001b[0;34m.\u001b[0m\u001b[0mfunctional\u001b[0m \u001b[0;32mas\u001b[0m \u001b[0mF\u001b[0m\u001b[0;34m\u001b[0m\u001b[0;34m\u001b[0m\u001b[0m\n",
            "\u001b[0;32m/usr/local/lib/python3.6/dist-packages/torch/__init__.py\u001b[0m in \u001b[0;36m<module>\u001b[0;34m()\u001b[0m\n\u001b[1;32m    134\u001b[0m     \u001b[0;31m# See Note [Global dependencies]\u001b[0m\u001b[0;34m\u001b[0m\u001b[0;34m\u001b[0m\u001b[0;34m\u001b[0m\u001b[0m\n\u001b[1;32m    135\u001b[0m     \u001b[0m_load_global_deps\u001b[0m\u001b[0;34m(\u001b[0m\u001b[0;34m)\u001b[0m\u001b[0;34m\u001b[0m\u001b[0;34m\u001b[0m\u001b[0m\n\u001b[0;32m--> 136\u001b[0;31m     \u001b[0;32mfrom\u001b[0m \u001b[0mtorch\u001b[0m\u001b[0;34m.\u001b[0m\u001b[0m_C\u001b[0m \u001b[0;32mimport\u001b[0m \u001b[0;34m*\u001b[0m\u001b[0;34m\u001b[0m\u001b[0;34m\u001b[0m\u001b[0m\n\u001b[0m\u001b[1;32m    137\u001b[0m \u001b[0;34m\u001b[0m\u001b[0m\n\u001b[1;32m    138\u001b[0m __all__ += [name for name in dir(_C)\n",
            "\u001b[0;31mKeyboardInterrupt\u001b[0m: "
          ]
        }
      ]
    },
    {
      "cell_type": "markdown",
      "metadata": {
        "id": "F_5C8Uv4h8mS",
        "colab_type": "text"
      },
      "source": [
        "LSTM EEG Classifier in Pytorch with random parameter search"
      ]
    },
    {
      "cell_type": "code",
      "metadata": {
        "id": "Ti9NunI6CIM_",
        "colab_type": "code",
        "colab": {
          "base_uri": "https://localhost:8080/",
          "height": 51
        },
        "outputId": "015727bb-d1a9-417e-87b6-d331f71e1554"
      },
      "source": [
        "drive.mount('/content/gdrive')\n",
        "%cd /content/gdrive/My\\ Drive"
      ],
      "execution_count": 15,
      "outputs": [
        {
          "output_type": "stream",
          "text": [
            "Drive already mounted at /content/gdrive; to attempt to forcibly remount, call drive.mount(\"/content/gdrive\", force_remount=True).\n",
            "/content/gdrive/My Drive\n"
          ],
          "name": "stdout"
        }
      ]
    },
    {
      "cell_type": "code",
      "metadata": {
        "id": "gXX-B4wUIXt2",
        "colab_type": "code",
        "colab": {}
      },
      "source": [
        "def loadData(isLSTMfirstLayer, valPercentage):\n",
        "  trainX = np.loadtxt(\"PsiloClassifier/dataSplit/trainX2.csv\", delimiter= \",\")\n",
        "  trainY = np.loadtxt(\"PsiloClassifier/dataSplit/trainY2.csv\", delimiter= \",\")\n",
        "  testX = np.loadtxt(\"PsiloClassifier/dataSplit/testX2.csv\", delimiter= \",\")\n",
        "  testY = np.loadtxt(\"PsiloClassifier/dataSplit/testY2.csv\", delimiter= \",\")\n",
        "  valX = np.loadtxt(\"PsiloClassifier/dataSplit/valX2.csv\", delimiter= \",\")\n",
        "  valY = np.loadtxt(\"PsiloClassifier/dataSplit/valY2.csv\", delimiter= \",\")\n",
        "  \n",
        "  if(isLSTMfirstLayer):\n",
        "    shape = trainX.shape\n",
        "    samples = shape[0]\n",
        "    timesteps = shape[1]\n",
        "    trainX = trainX.reshape(samples, timesteps, 1)\n",
        "\n",
        "    shape= testX.shape\n",
        "    samples = shape[0]\n",
        "    timesteps = shape[1]\n",
        "    testX = testX.reshape(samples, timesteps, 1)\n",
        "\n",
        "    shape= valX.shape\n",
        "    samples = shape[0]\n",
        "    timesteps = shape[1]\n",
        "    valX = valX.reshape(samples, timesteps, 1)\n",
        "\n",
        "  trainX = trainX.astype('float32')\n",
        "  testX = testX.astype('float32')\n",
        "  valX = valX.astype('float32')\n",
        "  trainY = trainY.astype('float32').reshape((-1,1))\n",
        "  testY = testY.astype('float32').reshape((-1,1))\n",
        "  valY = valY.astype('float32').reshape((-1,1))\n",
        "\n",
        "  trainX = torch.tensor(trainX)\n",
        "  trainY = torch.tensor(trainY)\n",
        "  testX = torch.tensor(testX)\n",
        "  testY = torch.tensor(testY)\n",
        "  valX = torch.tensor(valX)\n",
        "  valY = torch.tensor(valY)\n",
        "\n",
        "  return trainX, trainY, valX, valY, testX, testY"
      ],
      "execution_count": 16,
      "outputs": []
    },
    {
      "cell_type": "code",
      "metadata": {
        "id": "uV6C4UV-TsH7",
        "colab_type": "code",
        "colab": {}
      },
      "source": [
        "def createDataset(trainX, trainY, valX, valY):\n",
        "  train_ds = TensorDataset(trainX, trainY)\n",
        "  val_ds = TensorDataset(valX, valY)\n",
        "  return train_ds, val_ds"
      ],
      "execution_count": 17,
      "outputs": []
    },
    {
      "cell_type": "code",
      "metadata": {
        "id": "yXwnDjsWUKuf",
        "colab_type": "code",
        "colab": {}
      },
      "source": [
        "def createDataLoaders(train_ds, val_ds, bs):\n",
        "  train_dl = DataLoader(train_ds, bs, shuffle=False)\n",
        "  val_dl = DataLoader(val_ds, bs, shuffle=False)\n",
        "  return train_dl, val_dl"
      ],
      "execution_count": 18,
      "outputs": []
    },
    {
      "cell_type": "code",
      "metadata": {
        "id": "-wkLPdTH1EF2",
        "colab_type": "code",
        "colab": {}
      },
      "source": [
        "sigmoid = nn.Sigmoid()\n",
        "criterion = nn.BCELoss()\n",
        "\n",
        "class LSTMClassifier(nn.Module):\n",
        "  def __init__(self, input_dim, hidden_dim, num_lstm_layers, output_dim):\n",
        "    super().__init__()\n",
        "    self.hidden_dim = hidden_dim\n",
        "    self.num_lstm_layers = num_lstm_layers\n",
        "    self.rnn = nn.LSTM(input_dim, hidden_dim, num_lstm_layers, batch_first=True)\n",
        "    self.fc1 = nn.Linear(hidden_dim, 16)\n",
        "    self.fc = nn.Linear(16, output_dim)\n",
        "\n",
        "  def forward(self, x):\n",
        "    h0, c0 = self.init_hidden(x)\n",
        "    out, (hn, cn) = self.rnn(x, (h0, c0))\n",
        "    out = self.fc1(out[:, -1, :])\n",
        "    out = self.fc(out)\n",
        "    out = sigmoid(out)\n",
        "    return out\n",
        "\n",
        "  def init_hidden(self, x):\n",
        "    h0 = torch.zeros(self.num_lstm_layers, x.size(0), self.hidden_dim).to(device)\n",
        "    c0 = torch.zeros(self.num_lstm_layers, x.size(0), self.hidden_dim).to(device)\n",
        "    return h0, c0\n",
        "\n",
        "def accuracyAndLoss(data_loader, model):\n",
        "  total, correct, loss, batches = 0, 0, 0, 0\n",
        "  model.eval()\n",
        "  for x, y in data_loader:\n",
        "    x = x.to(device)\n",
        "    y = y.to(device)\n",
        "    out = model(x)\n",
        "    preds = out.round()\n",
        "    total += y.size(0)\n",
        "    batches += 1\n",
        "    correct += (preds == y).sum().item()\n",
        "    loss += criterion(out, y)\n",
        "  return correct/total, loss/batches"
      ],
      "execution_count": 19,
      "outputs": []
    },
    {
      "cell_type": "code",
      "metadata": {
        "id": "CscN6OQl0HNi",
        "colab_type": "code",
        "colab": {}
      },
      "source": [
        "device = torch.device(\"cuda:0\" if torch.cuda.is_available() else \"cpu\")\n",
        "trainX, trainY, valX, valY, testX, testY = loadData(True, 20)\n",
        "train_ds, val_ds = createDataset(trainX, trainY, valX, valY)\n",
        "train_dl, val_dl = createDataLoaders(train_ds, val_ds, bs=512)"
      ],
      "execution_count": 20,
      "outputs": []
    },
    {
      "cell_type": "code",
      "metadata": {
        "id": "oFH3RFNOuV4x",
        "colab_type": "code",
        "colab": {}
      },
      "source": [
        "def train_model(lr, epochs, hidden_dim, num_lstm_layers, plot=False):\n",
        "  \n",
        "  model = LSTMClassifier(1, hidden_dim, num_lstm_layers, 1).to(device)\n",
        "  criterion = nn.BCELoss()\n",
        "  opt = torch.optim.RMSprop(model.parameters(), lr=lr)\n",
        "  \n",
        "  train_accuracy = []\n",
        "  val_accuracy = []\n",
        "  train_loss = []\n",
        "  val_loss = []\n",
        "\n",
        "  print('Starting model training... lr:', lr, ' epochs:', epochs,  ' hidden_dim:', hidden_dim, ' num_lstm_layers:', num_lstm_layers)\n",
        "  for epoch in range(epochs):\n",
        "      for i, (x_batch, y_batch) in enumerate(train_dl):\n",
        "          model.train()\n",
        "          x_batch = x_batch.to(device)\n",
        "          y_batch = y_batch.to(device)\n",
        "          opt.zero_grad()\n",
        "          out = model(x_batch)\n",
        "          loss = criterion(out, y_batch)\n",
        "          loss.backward()\n",
        "          opt.step()\n",
        "      \n",
        "      with torch.no_grad():\n",
        "          train_accuracy_, train_loss_ = accuracyAndLoss(train_dl, model)\n",
        "          train_accuracy.append(train_accuracy_)\n",
        "          train_loss.append(train_loss_)\n",
        "          val_accuracy_, val_loss_ = accuracyAndLoss(val_dl, model)\n",
        "          val_accuracy.append(val_accuracy_)\n",
        "          val_loss.append(val_loss_)\n",
        "          \n",
        "      print('Epoch ' , epoch , '... train_accuracy:', round(train_accuracy[-1], 3), ' val_accuracy:', round(val_accuracy[-1], 3), ' train_loss:', round(train_loss[-1].item(), 3), ' val_loss:', round(val_loss[-1].item(), 3) )\n",
        "\n",
        "  if plot == True: \n",
        "    plt.subplot(2,1,1)\n",
        "    plt.plot(train_accuracy, 'b')\n",
        "    plt.title(\"accuracy\")\n",
        "    plt.plot(val_accuracy, 'r')\n",
        "\n",
        "    plt.subplot(2,1,2)\n",
        "    plt.plot(train_loss, 'b')\n",
        "    plt.title(\"loss\")\n",
        "    plt.plot(val_loss, 'r')\n",
        "\n",
        "    plt.tight_layout()\n",
        "    plt.show()\n",
        "\n",
        "  print('Training complete! train_accuracy:', round(train_accuracy[-1], 3), ' val_accuracy:', round(val_accuracy[-1], 3), ' train_loss:', round(train_loss[-1].item(), 3), ' val_loss:', round(val_loss[-1].item(), 3) )\n",
        "\n",
        "  return train_accuracy, val_accuracy, train_loss, val_loss, model;"
      ],
      "execution_count": 48,
      "outputs": []
    },
    {
      "cell_type": "code",
      "metadata": {
        "id": "6B8s6orwbHSk",
        "colab_type": "code",
        "colab": {}
      },
      "source": [
        "#stores all information relevant to a model trained using random parameter search\n",
        "class trainedModel:\n",
        "  def __init__(self, lr, epochs, hidden_dim, num_lstm_layers, train_accuracy, val_accuracy, train_loss, val_loss):\n",
        "    self.lr = lr\n",
        "    self.epochs = epochs\n",
        "    self.hidden_dim = hidden_dim\n",
        "    self.num_lstm_layers = num_lstm_layers\n",
        "    self.train_accuracy = train_accuracy\n",
        "    self.val_accuracy = val_accuracy\n",
        "    self.train_loss = train_loss\n",
        "    self.val_loss = val_loss\n",
        "    self.final_val_accuracy = val_accuracy[-1]\n",
        "\n",
        "  def __gt__(self, other):\n",
        "    return self.final_val_accuracy > other.final_val_accuracy\n",
        "\n",
        "#searches for optimal parameters within intervals of lr, epoch, etc. using uniform distribution. keeps and returns top 10 model objects (not their parameters, just their hyperparameters)\n",
        "def paramSearch(reps, lr_min, lr_max, epoch_min, epoch_max, hidden_dim_min, hidden_dim_max, num_lstm_min, num_lstm_max):\n",
        "  num_models_to_keep = 10\n",
        "  best_trained_models = []\n",
        "\n",
        "  for rep in range(reps):\n",
        "    lr = np.random.uniform(lr_min, lr_max)\n",
        "    epochs = int(np.random.uniform(epoch_min, epoch_max))\n",
        "    hidden_dim = int(np.random.uniform(hidden_dim_min, hidden_dim_max))\n",
        "    num_lstm_layers = int(np.random.uniform(num_lstm_min, num_lstm_max))\n",
        "\n",
        "    train_accuracy, val_accuracy, train_loss, val_loss, model = train_model(lr, epochs, hidden_dim, num_lstm_layers)\n",
        "    trained_model = trainedModel(lr, epochs, hidden_dim, num_lstm_layers, train_accuracy, val_accuracy, train_loss, val_accuracy)\n",
        "\n",
        "    if len(best_trained_models) < num_models_to_keep: \n",
        "      best_trained_models.append(trained_model)\n",
        "      best_trained_models.sort(key=lambda x: x.final_val_accuracy, reverse=True)\n",
        "    else:\n",
        "      if trained_model > best_trained_models[num_models_to_keep - 1]:\n",
        "        best_trained_models[num_models_to_keep - 1] = trained_model\n",
        "        best_trained_models.sort(key=lambda x: x.final_val_accuracy, reverse=True)\n",
        "\n",
        "  for i, x in enumerate(best_trained_models):\n",
        "    print(i,': ' , x.final_val_accuracy, ' lr: ', x.lr, ' epochs:', x.epochs, ' hidden_dim:', x.hidden_dim, ' num_layers:', x.num_lstm_layers)\n",
        "  return best_trained_models"
      ],
      "execution_count": 11,
      "outputs": []
    },
    {
      "cell_type": "code",
      "metadata": {
        "id": "zBVnOfEgkAvu",
        "colab_type": "code",
        "colab": {}
      },
      "source": [
        "x = []\n",
        "x = paramSearch(10, 0.001, 0.02, 1, 10, 1, 100, 1, 6)"
      ],
      "execution_count": null,
      "outputs": []
    },
    {
      "cell_type": "code",
      "metadata": {
        "id": "w1Q2LGd2ZAkq",
        "colab_type": "code",
        "colab": {
          "base_uri": "https://localhost:8080/"
        },
        "outputId": "72d709fc-a9f7-4872-ff3f-b8ed23b69dc0"
      },
      "source": [
        "a, b, c, d, model = train_model(0.0034, 10, 71, 1, True)"
      ],
      "execution_count": null,
      "outputs": [
        {
          "output_type": "stream",
          "text": [
            "Starting model training... lr: 0.0034  epochs: 10  hidden_dim: 71  num_lstm_layers: 1\n",
            "torch.Size([512, 250, 71])\n"
          ],
          "name": "stdout"
        }
      ]
    },
    {
      "cell_type": "code",
      "metadata": {
        "id": "qeRqw10N08UE",
        "colab_type": "code",
        "colab": {
          "base_uri": "https://localhost:8080/",
          "height": 1000
        },
        "outputId": "50583bb7-f0e8-4175-f7fc-c359e9d192cf"
      },
      "source": [
        "a, b, c, d, model = train_model(0.001, 150, 100, 1, True)"
      ],
      "execution_count": 51,
      "outputs": [
        {
          "output_type": "stream",
          "text": [
            "Starting model training... lr: 0.001  epochs: 150  hidden_dim: 100  num_lstm_layers: 1\n",
            "Epoch  0 ... train_accuracy: 0.508  val_accuracy: 0.492  train_loss: 0.693  val_loss: 0.694\n",
            "Epoch  1 ... train_accuracy: 0.519  val_accuracy: 0.491  train_loss: 0.69  val_loss: 0.695\n",
            "Epoch  2 ... train_accuracy: 0.505  val_accuracy: 0.496  train_loss: 0.693  val_loss: 0.695\n",
            "Epoch  3 ... train_accuracy: 0.514  val_accuracy: 0.491  train_loss: 0.693  val_loss: 0.695\n",
            "Epoch  4 ... train_accuracy: 0.509  val_accuracy: 0.503  train_loss: 0.693  val_loss: 0.698\n",
            "Epoch  5 ... train_accuracy: 0.626  val_accuracy: 0.565  train_loss: 0.639  val_loss: 0.689\n",
            "Epoch  6 ... train_accuracy: 0.648  val_accuracy: 0.56  train_loss: 0.622  val_loss: 0.734\n",
            "Epoch  7 ... train_accuracy: 0.656  val_accuracy: 0.57  train_loss: 0.611  val_loss: 0.721\n",
            "Epoch  8 ... train_accuracy: 0.663  val_accuracy: 0.577  train_loss: 0.605  val_loss: 0.718\n",
            "Epoch  9 ... train_accuracy: 0.667  val_accuracy: 0.586  train_loss: 0.6  val_loss: 0.707\n",
            "Epoch  10 ... train_accuracy: 0.67  val_accuracy: 0.589  train_loss: 0.595  val_loss: 0.7\n",
            "Epoch  11 ... train_accuracy: 0.674  val_accuracy: 0.594  train_loss: 0.591  val_loss: 0.7\n",
            "Epoch  12 ... train_accuracy: 0.677  val_accuracy: 0.59  train_loss: 0.585  val_loss: 0.713\n",
            "Epoch  13 ... train_accuracy: 0.681  val_accuracy: 0.596  train_loss: 0.581  val_loss: 0.711\n",
            "Epoch  14 ... train_accuracy: 0.682  val_accuracy: 0.599  train_loss: 0.578  val_loss: 0.707\n",
            "Epoch  15 ... train_accuracy: 0.678  val_accuracy: 0.608  train_loss: 0.588  val_loss: 0.66\n",
            "Epoch  16 ... train_accuracy: 0.684  val_accuracy: 0.602  train_loss: 0.579  val_loss: 0.675\n",
            "Epoch  17 ... train_accuracy: 0.687  val_accuracy: 0.603  train_loss: 0.573  val_loss: 0.693\n",
            "Epoch  18 ... train_accuracy: 0.691  val_accuracy: 0.605  train_loss: 0.568  val_loss: 0.71\n",
            "Epoch  19 ... train_accuracy: 0.691  val_accuracy: 0.607  train_loss: 0.567  val_loss: 0.721\n",
            "Epoch  20 ... train_accuracy: 0.694  val_accuracy: 0.603  train_loss: 0.565  val_loss: 0.755\n",
            "Epoch  21 ... train_accuracy: 0.696  val_accuracy: 0.616  train_loss: 0.559  val_loss: 0.712\n",
            "Epoch  22 ... train_accuracy: 0.697  val_accuracy: 0.622  train_loss: 0.562  val_loss: 0.722\n",
            "Epoch  23 ... train_accuracy: 0.7  val_accuracy: 0.623  train_loss: 0.556  val_loss: 0.725\n",
            "Epoch  24 ... train_accuracy: 0.703  val_accuracy: 0.628  train_loss: 0.551  val_loss: 0.732\n",
            "Epoch  25 ... train_accuracy: 0.703  val_accuracy: 0.634  train_loss: 0.553  val_loss: 0.73\n",
            "Epoch  26 ... train_accuracy: 0.709  val_accuracy: 0.642  train_loss: 0.543  val_loss: 0.73\n",
            "Epoch  27 ... train_accuracy: 0.711  val_accuracy: 0.65  train_loss: 0.54  val_loss: 0.731\n",
            "Epoch  28 ... train_accuracy: 0.712  val_accuracy: 0.652  train_loss: 0.538  val_loss: 0.72\n",
            "Epoch  29 ... train_accuracy: 0.714  val_accuracy: 0.656  train_loss: 0.536  val_loss: 0.733\n",
            "Epoch  30 ... train_accuracy: 0.714  val_accuracy: 0.658  train_loss: 0.534  val_loss: 0.739\n",
            "Epoch  31 ... train_accuracy: 0.716  val_accuracy: 0.655  train_loss: 0.533  val_loss: 0.719\n",
            "Epoch  32 ... train_accuracy: 0.716  val_accuracy: 0.658  train_loss: 0.532  val_loss: 0.738\n",
            "Epoch  33 ... train_accuracy: 0.719  val_accuracy: 0.655  train_loss: 0.529  val_loss: 0.772\n",
            "Epoch  34 ... train_accuracy: 0.717  val_accuracy: 0.655  train_loss: 0.529  val_loss: 0.76\n",
            "Epoch  35 ... train_accuracy: 0.722  val_accuracy: 0.652  train_loss: 0.523  val_loss: 0.741\n",
            "Epoch  36 ... train_accuracy: 0.724  val_accuracy: 0.654  train_loss: 0.521  val_loss: 0.742\n",
            "Epoch  37 ... train_accuracy: 0.724  val_accuracy: 0.651  train_loss: 0.52  val_loss: 0.763\n",
            "Epoch  38 ... train_accuracy: 0.724  val_accuracy: 0.653  train_loss: 0.521  val_loss: 0.74\n",
            "Epoch  39 ... train_accuracy: 0.727  val_accuracy: 0.648  train_loss: 0.517  val_loss: 0.761\n",
            "Epoch  40 ... train_accuracy: 0.727  val_accuracy: 0.652  train_loss: 0.517  val_loss: 0.752\n",
            "Epoch  41 ... train_accuracy: 0.727  val_accuracy: 0.647  train_loss: 0.516  val_loss: 0.765\n",
            "Epoch  42 ... train_accuracy: 0.731  val_accuracy: 0.644  train_loss: 0.513  val_loss: 0.745\n",
            "Epoch  43 ... train_accuracy: 0.731  val_accuracy: 0.646  train_loss: 0.511  val_loss: 0.759\n",
            "Epoch  44 ... train_accuracy: 0.73  val_accuracy: 0.647  train_loss: 0.512  val_loss: 0.747\n",
            "Epoch  45 ... train_accuracy: 0.733  val_accuracy: 0.643  train_loss: 0.508  val_loss: 0.774\n",
            "Epoch  46 ... train_accuracy: 0.734  val_accuracy: 0.642  train_loss: 0.507  val_loss: 0.767\n",
            "Epoch  47 ... train_accuracy: 0.733  val_accuracy: 0.643  train_loss: 0.508  val_loss: 0.784\n",
            "Epoch  48 ... train_accuracy: 0.735  val_accuracy: 0.646  train_loss: 0.506  val_loss: 0.826\n",
            "Epoch  49 ... train_accuracy: 0.737  val_accuracy: 0.642  train_loss: 0.502  val_loss: 0.782\n",
            "Epoch  50 ... train_accuracy: 0.737  val_accuracy: 0.645  train_loss: 0.503  val_loss: 0.794\n",
            "Epoch  51 ... train_accuracy: 0.74  val_accuracy: 0.641  train_loss: 0.499  val_loss: 0.785\n",
            "Epoch  52 ... train_accuracy: 0.734  val_accuracy: 0.643  train_loss: 0.505  val_loss: 0.786\n",
            "Epoch  53 ... train_accuracy: 0.739  val_accuracy: 0.639  train_loss: 0.5  val_loss: 0.773\n",
            "Epoch  54 ... train_accuracy: 0.74  val_accuracy: 0.639  train_loss: 0.497  val_loss: 0.801\n",
            "Epoch  55 ... train_accuracy: 0.738  val_accuracy: 0.64  train_loss: 0.5  val_loss: 0.784\n",
            "Epoch  56 ... train_accuracy: 0.743  val_accuracy: 0.64  train_loss: 0.493  val_loss: 0.797\n",
            "Epoch  57 ... train_accuracy: 0.741  val_accuracy: 0.641  train_loss: 0.495  val_loss: 0.804\n",
            "Epoch  58 ... train_accuracy: 0.735  val_accuracy: 0.647  train_loss: 0.507  val_loss: 0.769\n",
            "Epoch  59 ... train_accuracy: 0.74  val_accuracy: 0.635  train_loss: 0.496  val_loss: 0.8\n",
            "Epoch  60 ... train_accuracy: 0.742  val_accuracy: 0.637  train_loss: 0.493  val_loss: 0.843\n",
            "Epoch  61 ... train_accuracy: 0.747  val_accuracy: 0.638  train_loss: 0.487  val_loss: 0.818\n",
            "Epoch  62 ... train_accuracy: 0.742  val_accuracy: 0.637  train_loss: 0.493  val_loss: 0.847\n",
            "Epoch  63 ... train_accuracy: 0.741  val_accuracy: 0.635  train_loss: 0.494  val_loss: 0.845\n",
            "Epoch  64 ... train_accuracy: 0.741  val_accuracy: 0.638  train_loss: 0.495  val_loss: 0.83\n",
            "Epoch  65 ... train_accuracy: 0.745  val_accuracy: 0.638  train_loss: 0.491  val_loss: 0.788\n",
            "Epoch  66 ... train_accuracy: 0.745  val_accuracy: 0.638  train_loss: 0.488  val_loss: 0.841\n",
            "Epoch  67 ... train_accuracy: 0.743  val_accuracy: 0.639  train_loss: 0.492  val_loss: 0.87\n",
            "Epoch  68 ... train_accuracy: 0.749  val_accuracy: 0.637  train_loss: 0.482  val_loss: 0.871\n",
            "Epoch  69 ... train_accuracy: 0.75  val_accuracy: 0.635  train_loss: 0.481  val_loss: 0.858\n",
            "Epoch  70 ... train_accuracy: 0.75  val_accuracy: 0.637  train_loss: 0.481  val_loss: 0.826\n",
            "Epoch  71 ... train_accuracy: 0.75  val_accuracy: 0.637  train_loss: 0.481  val_loss: 0.852\n",
            "Epoch  72 ... train_accuracy: 0.749  val_accuracy: 0.635  train_loss: 0.481  val_loss: 0.873\n",
            "Epoch  73 ... train_accuracy: 0.75  val_accuracy: 0.634  train_loss: 0.485  val_loss: 0.913\n",
            "Epoch  74 ... train_accuracy: 0.753  val_accuracy: 0.639  train_loss: 0.477  val_loss: 0.841\n",
            "Epoch  75 ... train_accuracy: 0.752  val_accuracy: 0.635  train_loss: 0.476  val_loss: 0.854\n",
            "Epoch  76 ... train_accuracy: 0.75  val_accuracy: 0.635  train_loss: 0.48  val_loss: 0.847\n",
            "Epoch  77 ... train_accuracy: 0.753  val_accuracy: 0.636  train_loss: 0.476  val_loss: 0.866\n",
            "Epoch  78 ... train_accuracy: 0.75  val_accuracy: 0.634  train_loss: 0.48  val_loss: 0.859\n",
            "Epoch  79 ... train_accuracy: 0.753  val_accuracy: 0.632  train_loss: 0.477  val_loss: 0.871\n",
            "Epoch  80 ... train_accuracy: 0.746  val_accuracy: 0.638  train_loss: 0.488  val_loss: 0.899\n",
            "Epoch  81 ... train_accuracy: 0.756  val_accuracy: 0.636  train_loss: 0.471  val_loss: 0.892\n",
            "Epoch  82 ... train_accuracy: 0.754  val_accuracy: 0.632  train_loss: 0.474  val_loss: 0.87\n",
            "Epoch  83 ... train_accuracy: 0.753  val_accuracy: 0.635  train_loss: 0.475  val_loss: 0.888\n",
            "Epoch  84 ... train_accuracy: 0.746  val_accuracy: 0.631  train_loss: 0.49  val_loss: 0.883\n",
            "Epoch  85 ... train_accuracy: 0.755  val_accuracy: 0.627  train_loss: 0.473  val_loss: 0.895\n",
            "Epoch  86 ... train_accuracy: 0.753  val_accuracy: 0.634  train_loss: 0.477  val_loss: 0.893\n",
            "Epoch  87 ... train_accuracy: 0.754  val_accuracy: 0.631  train_loss: 0.476  val_loss: 0.93\n",
            "Epoch  88 ... train_accuracy: 0.759  val_accuracy: 0.632  train_loss: 0.467  val_loss: 0.881\n",
            "Epoch  89 ... train_accuracy: 0.758  val_accuracy: 0.628  train_loss: 0.47  val_loss: 0.871\n",
            "Epoch  90 ... train_accuracy: 0.749  val_accuracy: 0.63  train_loss: 0.483  val_loss: 0.867\n",
            "Epoch  91 ... train_accuracy: 0.76  val_accuracy: 0.63  train_loss: 0.468  val_loss: 0.9\n",
            "Epoch  92 ... train_accuracy: 0.756  val_accuracy: 0.626  train_loss: 0.473  val_loss: 0.865\n",
            "Epoch  93 ... train_accuracy: 0.762  val_accuracy: 0.626  train_loss: 0.464  val_loss: 0.905\n",
            "Epoch  94 ... train_accuracy: 0.756  val_accuracy: 0.628  train_loss: 0.472  val_loss: 0.955\n",
            "Epoch  95 ... train_accuracy: 0.758  val_accuracy: 0.628  train_loss: 0.47  val_loss: 0.894\n",
            "Epoch  96 ... train_accuracy: 0.761  val_accuracy: 0.629  train_loss: 0.463  val_loss: 0.927\n",
            "Epoch  97 ... train_accuracy: 0.756  val_accuracy: 0.629  train_loss: 0.474  val_loss: 0.938\n",
            "Epoch  98 ... train_accuracy: 0.762  val_accuracy: 0.623  train_loss: 0.465  val_loss: 0.901\n",
            "Epoch  99 ... train_accuracy: 0.751  val_accuracy: 0.623  train_loss: 0.482  val_loss: 0.876\n",
            "Epoch  100 ... train_accuracy: 0.761  val_accuracy: 0.629  train_loss: 0.464  val_loss: 0.916\n",
            "Epoch  101 ... train_accuracy: 0.765  val_accuracy: 0.629  train_loss: 0.458  val_loss: 0.934\n",
            "Epoch  102 ... train_accuracy: 0.765  val_accuracy: 0.626  train_loss: 0.458  val_loss: 0.913\n",
            "Epoch  103 ... train_accuracy: 0.761  val_accuracy: 0.626  train_loss: 0.465  val_loss: 0.883\n",
            "Epoch  104 ... train_accuracy: 0.767  val_accuracy: 0.626  train_loss: 0.456  val_loss: 0.936\n",
            "Epoch  105 ... train_accuracy: 0.766  val_accuracy: 0.628  train_loss: 0.456  val_loss: 0.924\n",
            "Epoch  106 ... train_accuracy: 0.765  val_accuracy: 0.629  train_loss: 0.459  val_loss: 0.959\n",
            "Epoch  107 ... train_accuracy: 0.764  val_accuracy: 0.621  train_loss: 0.459  val_loss: 0.931\n",
            "Epoch  108 ... train_accuracy: 0.764  val_accuracy: 0.629  train_loss: 0.459  val_loss: 0.947\n",
            "Epoch  109 ... train_accuracy: 0.76  val_accuracy: 0.623  train_loss: 0.465  val_loss: 0.953\n",
            "Epoch  110 ... train_accuracy: 0.768  val_accuracy: 0.626  train_loss: 0.452  val_loss: 0.94\n",
            "Epoch  111 ... train_accuracy: 0.769  val_accuracy: 0.626  train_loss: 0.453  val_loss: 0.966\n",
            "Epoch  112 ... train_accuracy: 0.765  val_accuracy: 0.625  train_loss: 0.458  val_loss: 0.949\n",
            "Epoch  113 ... train_accuracy: 0.76  val_accuracy: 0.624  train_loss: 0.466  val_loss: 0.977\n",
            "Epoch  114 ... train_accuracy: 0.768  val_accuracy: 0.623  train_loss: 0.453  val_loss: 0.995\n",
            "Epoch  115 ... train_accuracy: 0.761  val_accuracy: 0.621  train_loss: 0.463  val_loss: 0.992\n",
            "Epoch  116 ... train_accuracy: 0.77  val_accuracy: 0.617  train_loss: 0.45  val_loss: 0.932\n",
            "Epoch  117 ... train_accuracy: 0.77  val_accuracy: 0.623  train_loss: 0.449  val_loss: 0.931\n",
            "Epoch  118 ... train_accuracy: 0.766  val_accuracy: 0.625  train_loss: 0.457  val_loss: 1.019\n",
            "Epoch  119 ... train_accuracy: 0.767  val_accuracy: 0.619  train_loss: 0.456  val_loss: 0.986\n",
            "Epoch  120 ... train_accuracy: 0.771  val_accuracy: 0.623  train_loss: 0.448  val_loss: 0.974\n",
            "Epoch  121 ... train_accuracy: 0.772  val_accuracy: 0.625  train_loss: 0.446  val_loss: 1.022\n",
            "Epoch  122 ... train_accuracy: 0.77  val_accuracy: 0.62  train_loss: 0.45  val_loss: 0.984\n",
            "Epoch  123 ... train_accuracy: 0.765  val_accuracy: 0.621  train_loss: 0.459  val_loss: 0.974\n",
            "Epoch  124 ... train_accuracy: 0.766  val_accuracy: 0.625  train_loss: 0.458  val_loss: 0.963\n",
            "Epoch  125 ... train_accuracy: 0.771  val_accuracy: 0.626  train_loss: 0.447  val_loss: 0.995\n",
            "Epoch  126 ... train_accuracy: 0.768  val_accuracy: 0.623  train_loss: 0.452  val_loss: 0.982\n",
            "Epoch  127 ... train_accuracy: 0.758  val_accuracy: 0.62  train_loss: 0.468  val_loss: 1.073\n",
            "Epoch  128 ... train_accuracy: 0.774  val_accuracy: 0.621  train_loss: 0.443  val_loss: 0.981\n",
            "Epoch  129 ... train_accuracy: 0.773  val_accuracy: 0.627  train_loss: 0.446  val_loss: 0.996\n",
            "Epoch  130 ... train_accuracy: 0.774  val_accuracy: 0.625  train_loss: 0.443  val_loss: 0.987\n",
            "Epoch  131 ... train_accuracy: 0.773  val_accuracy: 0.627  train_loss: 0.446  val_loss: 1.023\n",
            "Epoch  132 ... train_accuracy: 0.776  val_accuracy: 0.619  train_loss: 0.441  val_loss: 1.017\n",
            "Epoch  133 ... train_accuracy: 0.775  val_accuracy: 0.619  train_loss: 0.443  val_loss: 1.02\n",
            "Epoch  134 ... train_accuracy: 0.77  val_accuracy: 0.624  train_loss: 0.449  val_loss: 0.977\n",
            "Epoch  135 ... train_accuracy: 0.777  val_accuracy: 0.614  train_loss: 0.439  val_loss: 0.984\n",
            "Epoch  136 ... train_accuracy: 0.772  val_accuracy: 0.623  train_loss: 0.448  val_loss: 1.053\n",
            "Epoch  137 ... train_accuracy: 0.773  val_accuracy: 0.624  train_loss: 0.446  val_loss: 0.995\n",
            "Epoch  138 ... train_accuracy: 0.77  val_accuracy: 0.624  train_loss: 0.45  val_loss: 0.949\n",
            "Epoch  139 ... train_accuracy: 0.775  val_accuracy: 0.626  train_loss: 0.442  val_loss: 1.038\n",
            "Epoch  140 ... train_accuracy: 0.774  val_accuracy: 0.621  train_loss: 0.442  val_loss: 1.014\n",
            "Epoch  141 ... train_accuracy: 0.774  val_accuracy: 0.62  train_loss: 0.443  val_loss: 1.036\n",
            "Epoch  142 ... train_accuracy: 0.777  val_accuracy: 0.621  train_loss: 0.439  val_loss: 1.018\n",
            "Epoch  143 ... train_accuracy: 0.769  val_accuracy: 0.619  train_loss: 0.452  val_loss: 1.058\n",
            "Epoch  144 ... train_accuracy: 0.774  val_accuracy: 0.624  train_loss: 0.445  val_loss: 1.045\n",
            "Epoch  145 ... train_accuracy: 0.775  val_accuracy: 0.617  train_loss: 0.443  val_loss: 1.065\n",
            "Epoch  146 ... train_accuracy: 0.779  val_accuracy: 0.62  train_loss: 0.437  val_loss: 1.026\n",
            "Epoch  147 ... train_accuracy: 0.77  val_accuracy: 0.618  train_loss: 0.449  val_loss: 1.009\n",
            "Epoch  148 ... train_accuracy: 0.776  val_accuracy: 0.626  train_loss: 0.439  val_loss: 1.043\n",
            "Epoch  149 ... train_accuracy: 0.77  val_accuracy: 0.617  train_loss: 0.452  val_loss: 0.978\n"
          ],
          "name": "stdout"
        },
        {
          "output_type": "display_data",
          "data": {
            "image/png": "[encoded data removed]",
            "text/plain": [
              "<Figure size 432x288 with 2 Axes>"
            ]
          },
          "metadata": {
            "tags": [],
            "needs_background": "light"
          }
        },
        {
          "output_type": "stream",
          "text": [
            "Training complete! train_accuracy: 0.77  val_accuracy: 0.617  train_loss: 0.452  val_loss: 0.978\n"
          ],
          "name": "stdout"
        }
      ]
    }
  ]
}