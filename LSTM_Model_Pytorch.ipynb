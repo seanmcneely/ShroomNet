{
  "nbformat": 4,
  "nbformat_minor": 0,
  "metadata": {
    "colab": {
      "name": "LSTM_Model_Pytorch.ipynb",
      "provenance": [],
      "collapsed_sections": []
    },
    "kernelspec": {
      "name": "python3",
      "display_name": "Python 3"
    },
    "accelerator": "GPU"
  },
  "cells": [
    {
      "cell_type": "code",
      "metadata": {
        "id": "vFEdcFcHCAG4",
        "colab_type": "code",
        "colab": {}
      },
      "source": [
        "import numpy as np\n",
        "from numpy import loadtxt\n",
        "from google.colab import drive\n",
        "import matplotlib.pyplot as plt\n",
        "import torch\n",
        "import torch.nn as nn\n",
        "import torch.nn.functional as F\n",
        "import torch.optim as optim\n",
        "from torch.utils.data import TensorDataset, DataLoader"
      ],
      "execution_count": 1,
      "outputs": []
    },
    {
      "cell_type": "markdown",
      "metadata": {
        "id": "F_5C8Uv4h8mS",
        "colab_type": "text"
      },
      "source": [
        "LSTM EEG Classifier in Pytorch with random parameter search"
      ]
    },
    {
      "cell_type": "code",
      "metadata": {
        "id": "Ti9NunI6CIM_",
        "colab_type": "code",
        "colab": {
          "base_uri": "https://localhost:8080/",
          "height": 139
        },
        "outputId": "e35d8c51-5f8f-476b-9a41-3cb8b4a61fd2"
      },
      "source": [
        "drive.mount('/content/gdrive')\n",
        "%cd /content/gdrive/My\\ Drive"
      ],
      "execution_count": 2,
      "outputs": [
        {
          "output_type": "stream",
          "text": [
            "Go to this URL in a browser: https://accounts.google.com/o/oauth2/auth?client_id=947318989803-6bn6qk8qdgf4n4g3pfee6491hc0brc4i.apps.googleusercontent.com&redirect_uri=urn%3aietf%3awg%3aoauth%3a2.0%3aoob&response_type=code&scope=email%20https%3a%2f%2fwww.googleapis.com%2fauth%2fdocs.test%20https%3a%2f%2fwww.googleapis.com%2fauth%2fdrive%20https%3a%2f%2fwww.googleapis.com%2fauth%2fdrive.photos.readonly%20https%3a%2f%2fwww.googleapis.com%2fauth%2fpeopleapi.readonly\n",
            "\n",
            "Enter your authorization code:\n",
            "··········\n",
            "Mounted at /content/gdrive\n",
            "/content/gdrive/My Drive\n"
          ],
          "name": "stdout"
        }
      ]
    },
    {
      "cell_type": "code",
      "metadata": {
        "id": "gXX-B4wUIXt2",
        "colab_type": "code",
        "colab": {}
      },
      "source": [
        "def loadData(isLSTMfirstLayer, valPercentage):\n",
        "  trainX = np.loadtxt(\"PsiloClassifier/dataSplit/trainX2.csv\", delimiter= \",\")\n",
        "  trainY = np.loadtxt(\"PsiloClassifier/dataSplit/trainY2.csv\", delimiter= \",\")\n",
        "  testX = np.loadtxt(\"PsiloClassifier/dataSplit/testX2.csv\", delimiter= \",\")\n",
        "  testY = np.loadtxt(\"PsiloClassifier/dataSplit/testY2.csv\", delimiter= \",\")\n",
        "  valX = np.loadtxt(\"PsiloClassifier/dataSplit/valX2.csv\", delimiter= \",\")\n",
        "  valY = np.loadtxt(\"PsiloClassifier/dataSplit/valY2.csv\", delimiter= \",\")\n",
        "\n",
        "  \"\"\"val_size = int(trainX.shape[0]*valPercentage/100)\n",
        "  valX = trainX[:val_size][:]\n",
        "  trainX = trainX[val_size:][:]\n",
        "  valY = trainY[:val_size]\n",
        "  trainY = trainY[val_size:]\"\"\"\n",
        "  \n",
        "  if(isLSTMfirstLayer):\n",
        "    shape = trainX.shape\n",
        "    samples = shape[0]\n",
        "    timesteps = shape[1]\n",
        "    trainX = trainX.reshape(samples, 1, timesteps)\n",
        "\n",
        "    shape= testX.shape\n",
        "    samples = shape[0]\n",
        "    timesteps = shape[1]\n",
        "    testX = testX.reshape(samples, 1, timesteps)\n",
        "\n",
        "    shape= valX.shape\n",
        "    samples = shape[0]\n",
        "    timesteps = shape[1]\n",
        "    valX = valX.reshape(samples, 1, timesteps)\n",
        "\n",
        "  trainX = trainX.astype('float32')\n",
        "  testX = testX.astype('float32')\n",
        "  valX = valX.astype('float32')\n",
        "  trainY = trainY.astype('float32').reshape((-1,1))\n",
        "  testY = testY.astype('float32').reshape((-1,1))\n",
        "  valY = valY.astype('float32').reshape((-1,1))\n",
        "\n",
        "  trainX = torch.tensor(trainX)\n",
        "  trainY = torch.tensor(trainY)\n",
        "  testX = torch.tensor(testX)\n",
        "  testY = torch.tensor(testY)\n",
        "  valX = torch.tensor(valX)\n",
        "  valY = torch.tensor(valY)\n",
        "\n",
        "  return trainX, trainY, valX, valY, testX, testY"
      ],
      "execution_count": 3,
      "outputs": []
    },
    {
      "cell_type": "code",
      "metadata": {
        "id": "uV6C4UV-TsH7",
        "colab_type": "code",
        "colab": {}
      },
      "source": [
        "def createDataset(trainX, trainY, valX, valY):\n",
        "  train_ds = TensorDataset(trainX, trainY)\n",
        "  val_ds = TensorDataset(valX, valY)\n",
        "  return train_ds, val_ds"
      ],
      "execution_count": 4,
      "outputs": []
    },
    {
      "cell_type": "code",
      "metadata": {
        "id": "yXwnDjsWUKuf",
        "colab_type": "code",
        "colab": {}
      },
      "source": [
        "def createDataLoaders(train_ds, val_ds, bs):\n",
        "  train_dl = DataLoader(train_ds, bs, shuffle=False)\n",
        "  val_dl = DataLoader(val_ds, bs, shuffle=False)\n",
        "  return train_dl, val_dl"
      ],
      "execution_count": 5,
      "outputs": []
    },
    {
      "cell_type": "code",
      "metadata": {
        "id": "-wkLPdTH1EF2",
        "colab_type": "code",
        "colab": {}
      },
      "source": [
        "sigmoid = nn.Sigmoid()\n",
        "criterion = nn.BCELoss()\n",
        "\n",
        "class LSTMClassifier(nn.Module):\n",
        "  def __init__(self, input_dim, hidden_dim, num_lstm_layers, output_dim):\n",
        "    super().__init__()\n",
        "    self.hidden_dim = hidden_dim\n",
        "    self.num_lstm_layers = num_lstm_layers\n",
        "    self.rnn = nn.LSTM(input_dim, hidden_dim, num_lstm_layers, batch_first=True)\n",
        "    self.fc = nn.Linear(hidden_dim, output_dim)\n",
        "\n",
        "  def forward(self, x):\n",
        "    h0, c0 = self.init_hidden(x)\n",
        "    out, (hn, cn) = self.rnn(x, (h0, c0))\n",
        "    out = self.fc(out[:, -1, :])\n",
        "    out = sigmoid(out)\n",
        "    return out\n",
        "\n",
        "  def init_hidden(self, x):\n",
        "    h0 = torch.zeros(self.num_lstm_layers, x.size(0), self.hidden_dim)\n",
        "    c0 = torch.zeros(self.num_lstm_layers, x.size(0), self.hidden_dim)\n",
        "    return h0, c0\n",
        "\n",
        "def accuracyAndLoss(data_loader, model):\n",
        "  total, correct, loss = 0, 0, 0\n",
        "  model.eval()\n",
        "  for x, y in data_loader:\n",
        "    out = model(x)\n",
        "    preds = out.round()\n",
        "    total += y.size(0)\n",
        "    correct += (preds == y).sum().item()\n",
        "    loss += criterion(out, y)\n",
        "  return correct/total, loss/total\n",
        "\n",
        "def accuracy(data_loader, model):\n",
        "  total, correct = 0, 0\n",
        "  model.eval()\n",
        "  for x, y in data_loader:\n",
        "    out = model(x)\n",
        "    preds = out.round()\n",
        "    total += y.size(0)\n",
        "    correct += (preds == y).sum().item()\n",
        "    return correct/total"
      ],
      "execution_count": 18,
      "outputs": []
    },
    {
      "cell_type": "code",
      "metadata": {
        "id": "CscN6OQl0HNi",
        "colab_type": "code",
        "colab": {}
      },
      "source": [
        "trainX, trainY, valX, valY, testX, testY = loadData(True, 20)\n",
        "train_ds, val_ds = createDataset(trainX, trainY, valX, valY)\n",
        "train_dl, val_dl = createDataLoaders(train_ds, val_ds, bs=512)"
      ],
      "execution_count": 10,
      "outputs": []
    },
    {
      "cell_type": "code",
      "metadata": {
        "id": "oFH3RFNOuV4x",
        "colab_type": "code",
        "colab": {}
      },
      "source": [
        "def train_model(lr, epochs, hidden_dim, num_lstm_layers, plot=False):\n",
        "  model = LSTMClassifier(250, hidden_dim, num_lstm_layers, 1)\n",
        "  criterion = nn.BCELoss()\n",
        "  opt = torch.optim.RMSprop(model.parameters(), lr=0.001)\n",
        "  train_accuracy = []\n",
        "  val_accuracy = []\n",
        "  train_loss = []\n",
        "  val_loss = []\n",
        "\n",
        "  print('Starting model training... lr:', lr, ' epochs:', epochs,  ' hidden_dim:', hidden_dim, ' num_lstm_layers:', num_lstm_layers)\n",
        "\n",
        "  for epoch in range(epochs):\n",
        "      for i, (x_batch, y_batch) in enumerate(train_dl):\n",
        "          model.train()\n",
        "          x_batch = x_batch\n",
        "          y_batch = y_batch\n",
        "          opt.zero_grad()\n",
        "          out = model(x_batch)\n",
        "          loss = criterion(out, y_batch)\n",
        "          loss.backward()\n",
        "          opt.step()\n",
        "      \n",
        "      with torch.no_grad():\n",
        "        train_accuracy_, train_loss_ = accuracyAndLoss(train_dl, model)\n",
        "        train_accuracy.append(train_accuracy_)\n",
        "        train_loss.append(train_loss_)\n",
        "        val_accuracy_, val_loss_ = accuracyAndLoss(val_dl, model)\n",
        "        val_accuracy.append(val_accuracy_)\n",
        "        val_loss.append(val_loss_)\n",
        "\n",
        "  if plot == True: \n",
        "    plt.subplot(2,1,1)\n",
        "    plt.plot(train_accuracy, 'b')\n",
        "    plt.title(\"accuracy\")\n",
        "    plt.plot(val_accuracy, 'r')\n",
        "\n",
        "    plt.subplot(2,1,2)\n",
        "    plt.plot(train_loss, 'b')\n",
        "    plt.title(\"loss\")\n",
        "    plt.plot(val_loss, 'r')\n",
        "\n",
        "    plt.tight_layout()\n",
        "    plt.show()\n",
        "\n",
        "  print('Training complete! train_accuracy:', round(train_accuracy[-1], 3), ' val_accuracy:', round(val_accuracy[-1], 3), ' train_loss:', round(train_loss[-1].item(), 3), ' val_loss:', round(val_loss[-1].item(), 3) )\n",
        "\n",
        "  return train_accuracy, val_accuracy, train_loss, val_loss, model;"
      ],
      "execution_count": 23,
      "outputs": []
    },
    {
      "cell_type": "code",
      "metadata": {
        "id": "6B8s6orwbHSk",
        "colab_type": "code",
        "colab": {}
      },
      "source": [
        "#stores all information relevant to a model trained using random parameter search\n",
        "class trainedModel:\n",
        "  def __init__(self, lr, epochs, hidden_dim, num_lstm_layers, train_accuracy, val_accuracy, train_loss, val_loss):\n",
        "    self.lr = lr\n",
        "    self.epochs = epochs\n",
        "    self.hidden_dim = hidden_dim\n",
        "    self.num_lstm_layers = num_lstm_layers\n",
        "    self.train_accuracy = train_accuracy\n",
        "    self.val_accuracy = val_accuracy\n",
        "    self.train_loss = train_loss\n",
        "    self.val_loss = val_loss\n",
        "    self.final_val_accuracy = val_accuracy[-1]\n",
        "\n",
        "  def __gt__(self, other):\n",
        "    return self.final_val_accuracy > other.final_val_accuracy\n",
        "\n",
        "#searches for optimal parameters within intervals of lr, epoch, etc. using uniform distribution. keeps and returns top 10 model objects (not their parameters, just their hyperparameters)\n",
        "def paramSearch(reps, lr_min, lr_max, epoch_min, epoch_max, hidden_dim_min, hidden_dim_max, num_lstm_min, num_lstm_max):\n",
        "  num_models_to_keep = 10\n",
        "  best_trained_models = []\n",
        "\n",
        "  for rep in range(reps):\n",
        "    lr = np.random.uniform(lr_min, lr_max)\n",
        "    epochs = int(np.random.uniform(epoch_min, epoch_max))\n",
        "    hidden_dim = int(np.random.uniform(hidden_dim_min, hidden_dim_max))\n",
        "    num_lstm_layers = int(np.random.uniform(num_lstm_min, num_lstm_max))\n",
        "\n",
        "    train_accuracy, val_accuracy, train_loss, val_loss = train_model(lr, epochs, hidden_dim, num_lstm_layers)\n",
        "    trained_model = trainedModel(lr, epochs, hidden_dim, num_lstm_layers, train_accuracy, val_accuracy, train_loss, val_accuracy)\n",
        "\n",
        "    if len(best_trained_models) < num_models_to_keep: \n",
        "      best_trained_models.append(trained_model)\n",
        "      best_trained_models.sort(key=lambda x: x.final_val_accuracy, reverse=True)\n",
        "    else:\n",
        "      if trained_model > best_trained_models[num_models_to_keep - 1]:\n",
        "        best_trained_models[num_models_to_keep - 1] = trained_model\n",
        "        best_trained_models.sort(key=lambda x: x.final_val_accuracy, reverse=True)\n",
        "\n",
        "  for i, x in enumerate(best_trained_models):\n",
        "    print(i,': ' , x.final_val_accuracy, ' lr: ', x.lr, ' epochs:', x.epochs, ' hidden_dim:', x.hidden_dim, ' num_layers:', x.num_lstm_layers)\n",
        "  return best_trained_models"
      ],
      "execution_count": 8,
      "outputs": []
    },
    {
      "cell_type": "code",
      "metadata": {
        "id": "zBVnOfEgkAvu",
        "colab_type": "code",
        "colab": {
          "base_uri": "https://localhost:8080/",
          "height": 1000
        },
        "outputId": "286c47a2-0a29-48fa-dd65-c264a783bd48"
      },
      "source": [
        "x = []\n",
        "x = paramSearch(60, 0.001, 0.02, 10, 50, 1, 100, 1, 6)"
      ],
      "execution_count": 162,
      "outputs": [
        {
          "output_type": "stream",
          "text": [
            "Starting model training... lr: 0.013853170841532265  epochs: 28  hidden_dim: 47  num_lstm_layers: 1\n",
            "Training complete! train_accuracy: 0.769  val_accuracy: 0.625  train_loss: 0.001  val_loss: 0.002\n",
            "Starting model training... lr: 0.00558214638954007  epochs: 27  hidden_dim: 16  num_lstm_layers: 4\n",
            "Training complete! train_accuracy: 0.721  val_accuracy: 0.63  train_loss: 0.001  val_loss: 0.001\n",
            "Starting model training... lr: 0.01529484646202723  epochs: 25  hidden_dim: 79  num_lstm_layers: 1\n",
            "Training complete! train_accuracy: 0.796  val_accuracy: 0.622  train_loss: 0.001  val_loss: 0.002\n",
            "Starting model training... lr: 0.0023752605605050587  epochs: 36  hidden_dim: 42  num_lstm_layers: 2\n",
            "Training complete! train_accuracy: 0.776  val_accuracy: 0.622  train_loss: 0.001  val_loss: 0.002\n",
            "Starting model training... lr: 0.014076126093741672  epochs: 10  hidden_dim: 38  num_lstm_layers: 2\n",
            "Training complete! train_accuracy: 0.733  val_accuracy: 0.633  train_loss: 0.001  val_loss: 0.001\n",
            "Starting model training... lr: 0.004686290834338375  epochs: 26  hidden_dim: 35  num_lstm_layers: 4\n",
            "Training complete! train_accuracy: 0.75  val_accuracy: 0.626  train_loss: 0.001  val_loss: 0.002\n",
            "Starting model training... lr: 0.00265341902195759  epochs: 11  hidden_dim: 4  num_lstm_layers: 5\n",
            "Training complete! train_accuracy: 0.629  val_accuracy: 0.59  train_loss: 0.001  val_loss: 0.001\n",
            "Starting model training... lr: 0.0031405384000071164  epochs: 14  hidden_dim: 83  num_lstm_layers: 3\n",
            "Training complete! train_accuracy: 0.768  val_accuracy: 0.622  train_loss: 0.001  val_loss: 0.002\n",
            "Starting model training... lr: 0.018293069234894516  epochs: 43  hidden_dim: 23  num_lstm_layers: 2\n",
            "Training complete! train_accuracy: 0.751  val_accuracy: 0.626  train_loss: 0.001  val_loss: 0.001\n",
            "Starting model training... lr: 0.008229627282222509  epochs: 35  hidden_dim: 92  num_lstm_layers: 3\n",
            "Training complete! train_accuracy: 0.81  val_accuracy: 0.61  train_loss: 0.001  val_loss: 0.004\n",
            "Starting model training... lr: 0.005629538145806657  epochs: 39  hidden_dim: 54  num_lstm_layers: 2\n",
            "Training complete! train_accuracy: 0.794  val_accuracy: 0.613  train_loss: 0.001  val_loss: 0.002\n",
            "Starting model training... lr: 0.009200419569202048  epochs: 34  hidden_dim: 29  num_lstm_layers: 1\n",
            "Training complete! train_accuracy: 0.754  val_accuracy: 0.63  train_loss: 0.001  val_loss: 0.001\n",
            "Starting model training... lr: 0.012303828059241337  epochs: 18  hidden_dim: 67  num_lstm_layers: 2\n",
            "Training complete! train_accuracy: 0.778  val_accuracy: 0.626  train_loss: 0.001  val_loss: 0.002\n",
            "Starting model training... lr: 0.004801661769531626  epochs: 46  hidden_dim: 16  num_lstm_layers: 1\n",
            "Training complete! train_accuracy: 0.732  val_accuracy: 0.627  train_loss: 0.001  val_loss: 0.001\n",
            "Starting model training... lr: 0.004470316441864508  epochs: 34  hidden_dim: 69  num_lstm_layers: 5\n",
            "Training complete! train_accuracy: 0.784  val_accuracy: 0.612  train_loss: 0.001  val_loss: 0.002\n",
            "Starting model training... lr: 0.012056354274858159  epochs: 48  hidden_dim: 26  num_lstm_layers: 2\n",
            "Training complete! train_accuracy: 0.76  val_accuracy: 0.625  train_loss: 0.001  val_loss: 0.002\n",
            "Starting model training... lr: 0.011366065446003028  epochs: 14  hidden_dim: 82  num_lstm_layers: 1\n",
            "Training complete! train_accuracy: 0.767  val_accuracy: 0.627  train_loss: 0.001  val_loss: 0.001\n",
            "Starting model training... lr: 0.009168269936210994  epochs: 33  hidden_dim: 50  num_lstm_layers: 1\n",
            "Training complete! train_accuracy: 0.781  val_accuracy: 0.62  train_loss: 0.001  val_loss: 0.002\n",
            "Starting model training... lr: 0.014387528514071171  epochs: 12  hidden_dim: 72  num_lstm_layers: 2\n",
            "Training complete! train_accuracy: 0.765  val_accuracy: 0.631  train_loss: 0.001  val_loss: 0.002\n",
            "Starting model training... lr: 0.0016052463082677796  epochs: 30  hidden_dim: 45  num_lstm_layers: 5\n",
            "Training complete! train_accuracy: 0.757  val_accuracy: 0.623  train_loss: 0.001  val_loss: 0.002\n",
            "Starting model training... lr: 0.00932245855935241  epochs: 46  hidden_dim: 83  num_lstm_layers: 1\n",
            "Training complete! train_accuracy: 0.828  val_accuracy: 0.611  train_loss: 0.001  val_loss: 0.002\n",
            "Starting model training... lr: 0.007974447524294615  epochs: 29  hidden_dim: 32  num_lstm_layers: 5\n",
            "Training complete! train_accuracy: 0.748  val_accuracy: 0.628  train_loss: 0.001  val_loss: 0.002\n",
            "Starting model training... lr: 0.0011638098079990705  epochs: 18  hidden_dim: 6  num_lstm_layers: 3\n",
            "Training complete! train_accuracy: 0.664  val_accuracy: 0.622  train_loss: 0.001  val_loss: 0.001\n",
            "Starting model training... lr: 0.009512651915517992  epochs: 23  hidden_dim: 58  num_lstm_layers: 3\n",
            "Training complete! train_accuracy: 0.779  val_accuracy: 0.623  train_loss: 0.001  val_loss: 0.002\n",
            "Starting model training... lr: 0.014405060476341307  epochs: 30  hidden_dim: 43  num_lstm_layers: 5\n",
            "Training complete! train_accuracy: 0.751  val_accuracy: 0.623  train_loss: 0.001  val_loss: 0.002\n",
            "Starting model training... lr: 0.015020760802369946  epochs: 13  hidden_dim: 93  num_lstm_layers: 4\n",
            "Training complete! train_accuracy: 0.767  val_accuracy: 0.628  train_loss: 0.001  val_loss: 0.002\n",
            "Starting model training... lr: 0.017420061169971877  epochs: 35  hidden_dim: 39  num_lstm_layers: 4\n",
            "Training complete! train_accuracy: 0.761  val_accuracy: 0.622  train_loss: 0.001  val_loss: 0.002\n",
            "Starting model training... lr: 0.017528186430715048  epochs: 35  hidden_dim: 13  num_lstm_layers: 3\n",
            "Training complete! train_accuracy: 0.715  val_accuracy: 0.628  train_loss: 0.001  val_loss: 0.001\n",
            "Starting model training... lr: 0.00595917564367729  epochs: 34  hidden_dim: 62  num_lstm_layers: 4\n",
            "Training complete! train_accuracy: 0.783  val_accuracy: 0.623  train_loss: 0.001  val_loss: 0.002\n",
            "Starting model training... lr: 0.00869984049946484  epochs: 41  hidden_dim: 80  num_lstm_layers: 4\n",
            "Training complete! train_accuracy: 0.801  val_accuracy: 0.606  train_loss: 0.001  val_loss: 0.003\n",
            "Starting model training... lr: 0.009144829230269578  epochs: 40  hidden_dim: 87  num_lstm_layers: 1\n",
            "Training complete! train_accuracy: 0.826  val_accuracy: 0.615  train_loss: 0.001  val_loss: 0.002\n",
            "Starting model training... lr: 0.013554874427681881  epochs: 20  hidden_dim: 19  num_lstm_layers: 2\n",
            "Training complete! train_accuracy: 0.723  val_accuracy: 0.632  train_loss: 0.001  val_loss: 0.001\n",
            "Starting model training... lr: 0.015205303299421508  epochs: 36  hidden_dim: 28  num_lstm_layers: 2\n",
            "Training complete! train_accuracy: 0.756  val_accuracy: 0.629  train_loss: 0.001  val_loss: 0.001\n",
            "Starting model training... lr: 0.0012488773758119445  epochs: 11  hidden_dim: 49  num_lstm_layers: 3\n",
            "Training complete! train_accuracy: 0.744  val_accuracy: 0.63  train_loss: 0.001  val_loss: 0.001\n",
            "Starting model training... lr: 0.006071122771164096  epochs: 43  hidden_dim: 55  num_lstm_layers: 2\n",
            "Training complete! train_accuracy: 0.799  val_accuracy: 0.61  train_loss: 0.001  val_loss: 0.002\n",
            "Starting model training... lr: 0.003431184989546507  epochs: 10  hidden_dim: 71  num_lstm_layers: 1\n",
            "Training complete! train_accuracy: 0.75  val_accuracy: 0.636  train_loss: 0.001  val_loss: 0.001\n",
            "Starting model training... lr: 0.01380266373922285  epochs: 18  hidden_dim: 88  num_lstm_layers: 5\n",
            "Training complete! train_accuracy: 0.776  val_accuracy: 0.627  train_loss: 0.001  val_loss: 0.002\n",
            "Starting model training... lr: 0.015504513985703027  epochs: 17  hidden_dim: 94  num_lstm_layers: 5\n",
            "Training complete! train_accuracy: 0.778  val_accuracy: 0.629  train_loss: 0.001  val_loss: 0.002\n",
            "Starting model training... lr: 0.0030419574164680984  epochs: 47  hidden_dim: 4  num_lstm_layers: 1\n",
            "Training complete! train_accuracy: 0.662  val_accuracy: 0.622  train_loss: 0.001  val_loss: 0.001\n",
            "Starting model training... lr: 0.011759229452690406  epochs: 48  hidden_dim: 8  num_lstm_layers: 4\n",
            "Training complete! train_accuracy: 0.7  val_accuracy: 0.628  train_loss: 0.001  val_loss: 0.001\n",
            "Starting model training... lr: 0.010495156883659595  epochs: 21  hidden_dim: 82  num_lstm_layers: 3\n",
            "Training complete! train_accuracy: 0.785  val_accuracy: 0.62  train_loss: 0.001  val_loss: 0.002\n",
            "Starting model training... lr: 0.00773719332586223  epochs: 24  hidden_dim: 16  num_lstm_layers: 3\n",
            "Training complete! train_accuracy: 0.72  val_accuracy: 0.633  train_loss: 0.001  val_loss: 0.001\n",
            "Starting model training... lr: 0.016127254451871006  epochs: 24  hidden_dim: 58  num_lstm_layers: 1\n",
            "Training complete! train_accuracy: 0.777  val_accuracy: 0.625  train_loss: 0.001  val_loss: 0.002\n",
            "Starting model training... lr: 0.00815502091995416  epochs: 34  hidden_dim: 8  num_lstm_layers: 2\n",
            "Training complete! train_accuracy: 0.694  val_accuracy: 0.633  train_loss: 0.001  val_loss: 0.001\n",
            "Starting model training... lr: 0.008406401149352672  epochs: 30  hidden_dim: 61  num_lstm_layers: 1\n",
            "Training complete! train_accuracy: 0.792  val_accuracy: 0.622  train_loss: 0.001  val_loss: 0.002\n",
            "Starting model training... lr: 0.016073675248186623  epochs: 33  hidden_dim: 40  num_lstm_layers: 5\n",
            "Training complete! train_accuracy: 0.754  val_accuracy: 0.625  train_loss: 0.001  val_loss: 0.002\n",
            "Starting model training... lr: 0.018964815256583355  epochs: 35  hidden_dim: 49  num_lstm_layers: 5\n",
            "Training complete! train_accuracy: 0.765  val_accuracy: 0.617  train_loss: 0.001  val_loss: 0.002\n",
            "Starting model training... lr: 0.004767401384179936  epochs: 10  hidden_dim: 61  num_lstm_layers: 4\n",
            "Training complete! train_accuracy: 0.749  val_accuracy: 0.634  train_loss: 0.001  val_loss: 0.002\n",
            "Starting model training... lr: 0.018629054207815555  epochs: 36  hidden_dim: 88  num_lstm_layers: 1\n",
            "Training complete! train_accuracy: 0.822  val_accuracy: 0.611  train_loss: 0.001  val_loss: 0.002\n",
            "Starting model training... lr: 0.011728552759706846  epochs: 12  hidden_dim: 90  num_lstm_layers: 4\n",
            "Training complete! train_accuracy: 0.761  val_accuracy: 0.628  train_loss: 0.001  val_loss: 0.002\n",
            "Starting model training... lr: 0.01042444632149284  epochs: 23  hidden_dim: 31  num_lstm_layers: 5\n",
            "Training complete! train_accuracy: 0.742  val_accuracy: 0.629  train_loss: 0.001  val_loss: 0.002\n",
            "Starting model training... lr: 0.006242632784975552  epochs: 31  hidden_dim: 14  num_lstm_layers: 5\n",
            "Training complete! train_accuracy: 0.716  val_accuracy: 0.63  train_loss: 0.001  val_loss: 0.001\n",
            "Starting model training... lr: 0.006075416271860332  epochs: 24  hidden_dim: 36  num_lstm_layers: 1\n",
            "Training complete! train_accuracy: 0.756  val_accuracy: 0.63  train_loss: 0.001  val_loss: 0.001\n",
            "Starting model training... lr: 0.01773475080609455  epochs: 34  hidden_dim: 95  num_lstm_layers: 2\n",
            "Training complete! train_accuracy: 0.821  val_accuracy: 0.609  train_loss: 0.001  val_loss: 0.004\n",
            "Starting model training... lr: 0.010940675356152871  epochs: 14  hidden_dim: 59  num_lstm_layers: 3\n",
            "Training complete! train_accuracy: 0.766  val_accuracy: 0.633  train_loss: 0.001  val_loss: 0.002\n",
            "Starting model training... lr: 0.007754275626492101  epochs: 23  hidden_dim: 63  num_lstm_layers: 4\n",
            "Training complete! train_accuracy: 0.77  val_accuracy: 0.622  train_loss: 0.001  val_loss: 0.002\n",
            "Starting model training... lr: 0.008486352127716736  epochs: 38  hidden_dim: 94  num_lstm_layers: 2\n",
            "Training complete! train_accuracy: 0.827  val_accuracy: 0.61  train_loss: 0.001  val_loss: 0.004\n",
            "Starting model training... lr: 0.010491759438906203  epochs: 48  hidden_dim: 99  num_lstm_layers: 5\n",
            "Training complete! train_accuracy: 0.831  val_accuracy: 0.602  train_loss: 0.001  val_loss: 0.003\n",
            "Starting model training... lr: 0.011458141569616168  epochs: 45  hidden_dim: 5  num_lstm_layers: 4\n",
            "Training complete! train_accuracy: 0.682  val_accuracy: 0.629  train_loss: 0.001  val_loss: 0.001\n",
            "Starting model training... lr: 0.002356909514594334  epochs: 29  hidden_dim: 89  num_lstm_layers: 2\n",
            "Training complete! train_accuracy: 0.811  val_accuracy: 0.616  train_loss: 0.001  val_loss: 0.003\n",
            "0 :  0.6356064690026955  lr:  0.003431184989546507  epochs: 10  hidden_dim: 71  num_layers: 1\n",
            "1 :  0.6342048517520216  lr:  0.004767401384179936  epochs: 10  hidden_dim: 61  num_layers: 4\n",
            "2 :  0.633423180592992  lr:  0.00773719332586223  epochs: 24  hidden_dim: 16  num_layers: 3\n",
            "3 :  0.6332345013477089  lr:  0.014076126093741672  epochs: 10  hidden_dim: 38  num_layers: 2\n",
            "4 :  0.6331266846361187  lr:  0.010940675356152871  epochs: 14  hidden_dim: 59  num_layers: 3\n",
            "5 :  0.6326145552560647  lr:  0.00815502091995416  epochs: 34  hidden_dim: 8  num_layers: 2\n",
            "6 :  0.6317789757412399  lr:  0.013554874427681881  epochs: 20  hidden_dim: 19  num_layers: 2\n",
            "7 :  0.6310781671159029  lr:  0.014387528514071171  epochs: 12  hidden_dim: 72  num_layers: 2\n",
            "8 :  0.6303773584905661  lr:  0.00558214638954007  epochs: 27  hidden_dim: 16  num_layers: 4\n",
            "9 :  0.6301617250673854  lr:  0.006242632784975552  epochs: 31  hidden_dim: 14  num_layers: 5\n"
          ],
          "name": "stdout"
        }
      ]
    },
    {
      "cell_type": "code",
      "metadata": {
        "id": "w1Q2LGd2ZAkq",
        "colab_type": "code",
        "colab": {
          "base_uri": "https://localhost:8080/",
          "height": 331
        },
        "outputId": "7af891a4-4dc7-478f-d328-14a114ffb732"
      },
      "source": [
        "a, b, c, d, model = train_model(0.0034, 10, 71, 1, True)"
      ],
      "execution_count": 34,
      "outputs": [
        {
          "output_type": "stream",
          "text": [
            "Starting model training... lr: 0.0034  epochs: 10  hidden_dim: 71  num_lstm_layers: 1\n"
          ],
          "name": "stdout"
        },
        {
          "output_type": "display_data",
          "data": {
            "image/png": "[encoded data removed]",
            "text/plain": [
              "<Figure size 432x288 with 2 Axes>"
            ]
          },
          "metadata": {
            "tags": [],
            "needs_background": "light"
          }
        },
        {
          "output_type": "stream",
          "text": [
            "Training complete! train_accuracy: 0.751  val_accuracy: 0.634  train_loss: 0.001  val_loss: 0.001\n"
          ],
          "name": "stdout"
        }
      ]
    },
    {
      "cell_type": "code",
      "metadata": {
        "id": "oBUNC9ypk11x",
        "colab_type": "code",
        "colab": {
          "base_uri": "https://localhost:8080/",
          "height": 331
        },
        "outputId": "35dc2b87-3e0b-4fc9-d366-19ba5aef5da8"
      },
      "source": [
        "a, b, c, d, model = train_model(0.0034, 2, 71, 1, True)"
      ],
      "execution_count": 24,
      "outputs": [
        {
          "output_type": "stream",
          "text": [
            "Starting model training... lr: 0.0034  epochs: 2  hidden_dim: 71  num_lstm_layers: 1\n"
          ],
          "name": "stdout"
        },
        {
          "output_type": "display_data",
          "data": {
            "image/png": "[encoded data removed]",
            "text/plain": [
              "<Figure size 432x288 with 2 Axes>"
            ]
          },
          "metadata": {
            "tags": [],
            "needs_background": "light"
          }
        },
        {
          "output_type": "stream",
          "text": [
            "Training complete! train_accuracy: 0.694  val_accuracy: 0.642  train_loss: 0.001  val_loss: 0.001\n"
          ],
          "name": "stdout"
        }
      ]
    }
  ]
}